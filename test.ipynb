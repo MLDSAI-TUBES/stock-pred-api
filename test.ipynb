{
 "cells": [
  {
   "cell_type": "code",
   "execution_count": null,
   "metadata": {},
   "outputs": [],
   "source": [
    "from datetime import date\n",
    "\n",
    "today = date.today()\n",
    "print(\"Today's date:\", today)"
   ]
  },
  {
   "cell_type": "code",
   "execution_count": null,
   "metadata": {},
   "outputs": [],
   "source": [
    "import yfinance as yf\n",
    "oneMoData = yf.download('TLKM.JK', period='1mo')\n",
    "oneMoData"
   ]
  },
  {
   "cell_type": "code",
   "execution_count": null,
   "metadata": {},
   "outputs": [],
   "source": [
    "import pandas as pd\n",
    "data = {\n",
    "            'Date': [date.today()],\n",
    "            'Ticker': ['TLKM.JK'],\n",
    "            '7 DAYS MA': [4500],\n",
    "            '14 DAYS MA': [4300],\n",
    "            '21 DAYS MA': [4350],\n",
    "            '7 DAYS STD DEV': [158]\n",
    "        }\n",
    "\n",
    "df = pd.DataFrame(data=data)\n",
    "df = df.set_index('Date')\n",
    "df"
   ]
  },
  {
   "cell_type": "code",
   "execution_count": 7,
   "metadata": {},
   "outputs": [
    {
     "name": "stdout",
     "output_type": "stream",
     "text": [
      "[*********************100%***********************]  1 of 1 completed\n"
     ]
    },
    {
     "data": {
      "text/html": [
       "<div>\n",
       "<style scoped>\n",
       "    .dataframe tbody tr th:only-of-type {\n",
       "        vertical-align: middle;\n",
       "    }\n",
       "\n",
       "    .dataframe tbody tr th {\n",
       "        vertical-align: top;\n",
       "    }\n",
       "\n",
       "    .dataframe thead th {\n",
       "        text-align: right;\n",
       "    }\n",
       "</style>\n",
       "<table border=\"1\" class=\"dataframe\">\n",
       "  <thead>\n",
       "    <tr style=\"text-align: right;\">\n",
       "      <th></th>\n",
       "      <th>7 DAYS MA</th>\n",
       "      <th>14 DAYS MA</th>\n",
       "      <th>21 DAYS MA</th>\n",
       "      <th>7 DAYS STD DEV</th>\n",
       "      <th>dayofweek</th>\n",
       "      <th>quarter</th>\n",
       "      <th>month</th>\n",
       "      <th>year</th>\n",
       "      <th>dayofyear</th>\n",
       "      <th>dayofmonth</th>\n",
       "      <th>weekofyear</th>\n",
       "    </tr>\n",
       "    <tr>\n",
       "      <th>Date</th>\n",
       "      <th></th>\n",
       "      <th></th>\n",
       "      <th></th>\n",
       "      <th></th>\n",
       "      <th></th>\n",
       "      <th></th>\n",
       "      <th></th>\n",
       "      <th></th>\n",
       "      <th></th>\n",
       "      <th></th>\n",
       "      <th></th>\n",
       "    </tr>\n",
       "  </thead>\n",
       "  <tbody>\n",
       "    <tr>\n",
       "      <th>2022-11-13</th>\n",
       "      <td>4192.857143</td>\n",
       "      <td>4282.857143</td>\n",
       "      <td>4292.857143</td>\n",
       "      <td>4192.857143</td>\n",
       "      <td>6</td>\n",
       "      <td>4</td>\n",
       "      <td>11</td>\n",
       "      <td>2022</td>\n",
       "      <td>317</td>\n",
       "      <td>13</td>\n",
       "      <td>45</td>\n",
       "    </tr>\n",
       "  </tbody>\n",
       "</table>\n",
       "</div>"
      ],
      "text/plain": [
       "              7 DAYS MA   14 DAYS MA   21 DAYS MA  7 DAYS STD DEV  dayofweek  \\\n",
       "Date                                                                           \n",
       "2022-11-13  4192.857143  4282.857143  4292.857143     4192.857143          6   \n",
       "\n",
       "            quarter  month  year  dayofyear  dayofmonth  weekofyear  \n",
       "Date                                                                 \n",
       "2022-11-13        4     11  2022        317          13          45  "
      ]
     },
     "execution_count": 7,
     "metadata": {},
     "output_type": "execute_result"
    }
   ],
   "source": [
    "import preprocess\n",
    "\n",
    "sol = preprocess.PreprocessIndependentVariables('TLKM.JK')\n",
    "df = sol.getDF()\n",
    "df"
   ]
  },
  {
   "cell_type": "code",
   "execution_count": null,
   "metadata": {},
   "outputs": [],
   "source": [
    "import normalize_features\n",
    "nf = normalize_features.NormalizeFeatures(df)\n",
    "nf.getScaledDF()"
   ]
  },
  {
   "cell_type": "code",
   "execution_count": null,
   "metadata": {},
   "outputs": [],
   "source": [
    "str(date.today())"
   ]
  },
  {
   "cell_type": "code",
   "execution_count": null,
   "metadata": {},
   "outputs": [],
   "source": [
    "from datetime import date\n",
    "import datetime\n",
    "date.today() + datetime.timedelta(days=1)"
   ]
  },
  {
   "cell_type": "code",
   "execution_count": null,
   "metadata": {},
   "outputs": [],
   "source": [
    "import preprocess\n",
    "\n",
    "sol = preprocess.PreprocessIndependentVariables('TLKM.JK')\n",
    "df = sol.getDF()"
   ]
  },
  {
   "cell_type": "code",
   "execution_count": null,
   "metadata": {},
   "outputs": [],
   "source": [
    "import yfinance as yf\n",
    "import pandas as pd\n",
    "from datetime import date\n",
    "import datetime\n",
    "\n",
    "today = date.today()\n",
    "monday = today + datetime.timedelta(days=1)\n",
    "df = yf.download('TLKM.JK', period='1mo')\n",
    "close_series = df['Close']\n",
    "# addition = pd.Series([0], index=[monday])\n",
    "# close_series = close_series.append(addition)\n",
    "# close_series\n",
    "\n",
    "# Get the window of close series\n",
    "window_size_7 = 7 # 7 for 7 days moving average\n",
    "windows_7 = close_series.rolling(window_size_7)\n",
    "\n",
    "# Create a series of moving averages of each window\n",
    "moving_averages_7 = windows_7.mean()\n",
    "moving_averages_7"
   ]
  },
  {
   "cell_type": "code",
   "execution_count": null,
   "metadata": {},
   "outputs": [],
   "source": [
    "df2 = pd.DataFrame({'B': [0, 1, 2, 3, 4, 5, 6, 7, 8, 9]})\n",
    "df2"
   ]
  },
  {
   "cell_type": "code",
   "execution_count": null,
   "metadata": {},
   "outputs": [],
   "source": [
    "df2.rolling(7).sum()"
   ]
  },
  {
   "cell_type": "code",
   "execution_count": null,
   "metadata": {},
   "outputs": [],
   "source": [
    "import preprocess\n",
    "\n",
    "sol = preprocess.PreprocessIndependentVariables('TLKM.JK')\n",
    "df = sol.getDF()"
   ]
  },
  {
   "cell_type": "code",
   "execution_count": null,
   "metadata": {},
   "outputs": [],
   "source": [
    "import normalize_features as nf\n",
    "\n",
    "nf_ = nf.NormalizeFeatures(df)\n",
    "nf_.getScaledDF()"
   ]
  },
  {
   "cell_type": "code",
   "execution_count": null,
   "metadata": {},
   "outputs": [],
   "source": []
  }
 ],
 "metadata": {
  "kernelspec": {
   "display_name": "Python 3.10.8 64-bit",
   "language": "python",
   "name": "python3"
  },
  "language_info": {
   "codemirror_mode": {
    "name": "ipython",
    "version": 3
   },
   "file_extension": ".py",
   "mimetype": "text/x-python",
   "name": "python",
   "nbconvert_exporter": "python",
   "pygments_lexer": "ipython3",
   "version": "3.10.8"
  },
  "orig_nbformat": 4,
  "vscode": {
   "interpreter": {
    "hash": "369f2c481f4da34e4445cda3fffd2e751bd1c4d706f27375911949ba6bb62e1c"
   }
  }
 },
 "nbformat": 4,
 "nbformat_minor": 2
}
