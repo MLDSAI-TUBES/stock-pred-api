{
 "cells": [
  {
   "cell_type": "code",
   "execution_count": 1,
   "id": "b46f9f81",
   "metadata": {},
   "outputs": [],
   "source": [
    "import numpy as np\n",
    "import pandas as pd\n",
    "import seaborn as sns\n",
    "import matplotlib.pyplot as plt"
   ]
  },
  {
   "cell_type": "markdown",
   "id": "7574a6c3",
   "metadata": {},
   "source": [
    "## Load and prep the data"
   ]
  },
  {
   "cell_type": "code",
   "execution_count": 2,
   "id": "f7bd913d",
   "metadata": {},
   "outputs": [
    {
     "data": {
      "text/html": [
       "<div>\n",
       "<style scoped>\n",
       "    .dataframe tbody tr th:only-of-type {\n",
       "        vertical-align: middle;\n",
       "    }\n",
       "\n",
       "    .dataframe tbody tr th {\n",
       "        vertical-align: top;\n",
       "    }\n",
       "\n",
       "    .dataframe thead th {\n",
       "        text-align: right;\n",
       "    }\n",
       "</style>\n",
       "<table border=\"1\" class=\"dataframe\">\n",
       "  <thead>\n",
       "    <tr style=\"text-align: right;\">\n",
       "      <th></th>\n",
       "      <th>7 DAYS MA</th>\n",
       "      <th>7 DAYS STD DEV</th>\n",
       "      <th>14 DAYS MA</th>\n",
       "      <th>21 DAYS MA</th>\n",
       "      <th>dayofweek</th>\n",
       "      <th>quarter</th>\n",
       "      <th>month</th>\n",
       "      <th>year</th>\n",
       "      <th>dayofyear</th>\n",
       "      <th>dayofmonth</th>\n",
       "      <th>weekofyear</th>\n",
       "      <th>Close</th>\n",
       "    </tr>\n",
       "    <tr>\n",
       "      <th>Date</th>\n",
       "      <th></th>\n",
       "      <th></th>\n",
       "      <th></th>\n",
       "      <th></th>\n",
       "      <th></th>\n",
       "      <th></th>\n",
       "      <th></th>\n",
       "      <th></th>\n",
       "      <th></th>\n",
       "      <th></th>\n",
       "      <th></th>\n",
       "      <th></th>\n",
       "    </tr>\n",
       "  </thead>\n",
       "  <tbody>\n",
       "    <tr>\n",
       "      <th>2012-10-17</th>\n",
       "      <td>-1.901334</td>\n",
       "      <td>-1.101544</td>\n",
       "      <td>-1.927720</td>\n",
       "      <td>-1.944208</td>\n",
       "      <td>0.008923</td>\n",
       "      <td>1.34241</td>\n",
       "      <td>1.016593</td>\n",
       "      <td>-1.845348</td>\n",
       "      <td>1.033444</td>\n",
       "      <td>0.147246</td>\n",
       "      <td>1.030312</td>\n",
       "      <td>-1.884821</td>\n",
       "    </tr>\n",
       "    <tr>\n",
       "      <th>2012-10-18</th>\n",
       "      <td>-1.895749</td>\n",
       "      <td>-1.125565</td>\n",
       "      <td>-1.920264</td>\n",
       "      <td>-1.939855</td>\n",
       "      <td>0.716706</td>\n",
       "      <td>1.34241</td>\n",
       "      <td>1.016593</td>\n",
       "      <td>-1.845348</td>\n",
       "      <td>1.042927</td>\n",
       "      <td>0.261864</td>\n",
       "      <td>1.030312</td>\n",
       "      <td>-1.910838</td>\n",
       "    </tr>\n",
       "    <tr>\n",
       "      <th>2012-10-19</th>\n",
       "      <td>-1.895749</td>\n",
       "      <td>-1.125565</td>\n",
       "      <td>-1.916537</td>\n",
       "      <td>-1.936745</td>\n",
       "      <td>1.424489</td>\n",
       "      <td>1.34241</td>\n",
       "      <td>1.016593</td>\n",
       "      <td>-1.845348</td>\n",
       "      <td>1.052410</td>\n",
       "      <td>0.376483</td>\n",
       "      <td>1.030312</td>\n",
       "      <td>-1.910838</td>\n",
       "    </tr>\n",
       "    <tr>\n",
       "      <th>2012-10-22</th>\n",
       "      <td>-1.895749</td>\n",
       "      <td>-1.125565</td>\n",
       "      <td>-1.911877</td>\n",
       "      <td>-1.933636</td>\n",
       "      <td>-1.406643</td>\n",
       "      <td>1.34241</td>\n",
       "      <td>1.016593</td>\n",
       "      <td>-1.845348</td>\n",
       "      <td>1.080859</td>\n",
       "      <td>0.720337</td>\n",
       "      <td>1.096678</td>\n",
       "      <td>-1.936855</td>\n",
       "    </tr>\n",
       "    <tr>\n",
       "      <th>2012-10-23</th>\n",
       "      <td>-1.903195</td>\n",
       "      <td>-1.049270</td>\n",
       "      <td>-1.910945</td>\n",
       "      <td>-1.931770</td>\n",
       "      <td>-0.698860</td>\n",
       "      <td>1.34241</td>\n",
       "      <td>1.016593</td>\n",
       "      <td>-1.845348</td>\n",
       "      <td>1.090342</td>\n",
       "      <td>0.834955</td>\n",
       "      <td>1.096678</td>\n",
       "      <td>-1.910838</td>\n",
       "    </tr>\n",
       "  </tbody>\n",
       "</table>\n",
       "</div>"
      ],
      "text/plain": [
       "            7 DAYS MA  7 DAYS STD DEV  14 DAYS MA  21 DAYS MA  dayofweek  \\\n",
       "Date                                                                       \n",
       "2012-10-17  -1.901334       -1.101544   -1.927720   -1.944208   0.008923   \n",
       "2012-10-18  -1.895749       -1.125565   -1.920264   -1.939855   0.716706   \n",
       "2012-10-19  -1.895749       -1.125565   -1.916537   -1.936745   1.424489   \n",
       "2012-10-22  -1.895749       -1.125565   -1.911877   -1.933636  -1.406643   \n",
       "2012-10-23  -1.903195       -1.049270   -1.910945   -1.931770  -0.698860   \n",
       "\n",
       "            quarter     month      year  dayofyear  dayofmonth  weekofyear  \\\n",
       "Date                                                                         \n",
       "2012-10-17  1.34241  1.016593 -1.845348   1.033444    0.147246    1.030312   \n",
       "2012-10-18  1.34241  1.016593 -1.845348   1.042927    0.261864    1.030312   \n",
       "2012-10-19  1.34241  1.016593 -1.845348   1.052410    0.376483    1.030312   \n",
       "2012-10-22  1.34241  1.016593 -1.845348   1.080859    0.720337    1.096678   \n",
       "2012-10-23  1.34241  1.016593 -1.845348   1.090342    0.834955    1.096678   \n",
       "\n",
       "               Close  \n",
       "Date                  \n",
       "2012-10-17 -1.884821  \n",
       "2012-10-18 -1.910838  \n",
       "2012-10-19 -1.910838  \n",
       "2012-10-22 -1.936855  \n",
       "2012-10-23 -1.910838  "
      ]
     },
     "execution_count": 2,
     "metadata": {},
     "output_type": "execute_result"
    }
   ],
   "source": [
    "df = pd.read_csv('../cleaned_data/TLKM.csv', index_col='Date', parse_dates=True)\n",
    "df.head()"
   ]
  },
  {
   "cell_type": "markdown",
   "id": "7e1ee8a2",
   "metadata": {},
   "source": [
    "### Split the dataset"
   ]
  },
  {
   "cell_type": "code",
   "execution_count": 3,
   "id": "f6c8fbae",
   "metadata": {},
   "outputs": [],
   "source": [
    "train_len = int(len(df)*.8)\n",
    "train_dataset = df[:train_len]\n",
    "test_dataset = df[train_len:len(df)]"
   ]
  },
  {
   "cell_type": "code",
   "execution_count": 4,
   "id": "e4849c5a",
   "metadata": {},
   "outputs": [],
   "source": [
    "train_dataset_y = train_dataset[['Close']]"
   ]
  },
  {
   "cell_type": "code",
   "execution_count": 5,
   "id": "06910ab1",
   "metadata": {},
   "outputs": [
    {
     "data": {
      "text/html": [
       "<div>\n",
       "<style scoped>\n",
       "    .dataframe tbody tr th:only-of-type {\n",
       "        vertical-align: middle;\n",
       "    }\n",
       "\n",
       "    .dataframe tbody tr th {\n",
       "        vertical-align: top;\n",
       "    }\n",
       "\n",
       "    .dataframe thead th {\n",
       "        text-align: right;\n",
       "    }\n",
       "</style>\n",
       "<table border=\"1\" class=\"dataframe\">\n",
       "  <thead>\n",
       "    <tr style=\"text-align: right;\">\n",
       "      <th></th>\n",
       "      <th>7 DAYS MA</th>\n",
       "      <th>7 DAYS STD DEV</th>\n",
       "      <th>14 DAYS MA</th>\n",
       "      <th>21 DAYS MA</th>\n",
       "      <th>dayofweek</th>\n",
       "      <th>quarter</th>\n",
       "      <th>month</th>\n",
       "      <th>year</th>\n",
       "      <th>dayofyear</th>\n",
       "      <th>dayofmonth</th>\n",
       "      <th>weekofyear</th>\n",
       "      <th>Close</th>\n",
       "    </tr>\n",
       "    <tr>\n",
       "      <th>Date</th>\n",
       "      <th></th>\n",
       "      <th></th>\n",
       "      <th></th>\n",
       "      <th></th>\n",
       "      <th></th>\n",
       "      <th></th>\n",
       "      <th></th>\n",
       "      <th></th>\n",
       "      <th></th>\n",
       "      <th></th>\n",
       "      <th></th>\n",
       "      <th></th>\n",
       "    </tr>\n",
       "  </thead>\n",
       "  <tbody>\n",
       "    <tr>\n",
       "      <th>2012-10-17</th>\n",
       "      <td>-1.901334</td>\n",
       "      <td>-1.101544</td>\n",
       "      <td>-1.927720</td>\n",
       "      <td>-1.944208</td>\n",
       "      <td>0.008923</td>\n",
       "      <td>1.34241</td>\n",
       "      <td>1.016593</td>\n",
       "      <td>-1.845348</td>\n",
       "      <td>1.033444</td>\n",
       "      <td>0.147246</td>\n",
       "      <td>1.030312</td>\n",
       "      <td>-1.884821</td>\n",
       "    </tr>\n",
       "    <tr>\n",
       "      <th>2012-10-18</th>\n",
       "      <td>-1.895749</td>\n",
       "      <td>-1.125565</td>\n",
       "      <td>-1.920264</td>\n",
       "      <td>-1.939855</td>\n",
       "      <td>0.716706</td>\n",
       "      <td>1.34241</td>\n",
       "      <td>1.016593</td>\n",
       "      <td>-1.845348</td>\n",
       "      <td>1.042927</td>\n",
       "      <td>0.261864</td>\n",
       "      <td>1.030312</td>\n",
       "      <td>-1.910838</td>\n",
       "    </tr>\n",
       "    <tr>\n",
       "      <th>2012-10-19</th>\n",
       "      <td>-1.895749</td>\n",
       "      <td>-1.125565</td>\n",
       "      <td>-1.916537</td>\n",
       "      <td>-1.936745</td>\n",
       "      <td>1.424489</td>\n",
       "      <td>1.34241</td>\n",
       "      <td>1.016593</td>\n",
       "      <td>-1.845348</td>\n",
       "      <td>1.052410</td>\n",
       "      <td>0.376483</td>\n",
       "      <td>1.030312</td>\n",
       "      <td>-1.910838</td>\n",
       "    </tr>\n",
       "    <tr>\n",
       "      <th>2012-10-22</th>\n",
       "      <td>-1.895749</td>\n",
       "      <td>-1.125565</td>\n",
       "      <td>-1.911877</td>\n",
       "      <td>-1.933636</td>\n",
       "      <td>-1.406643</td>\n",
       "      <td>1.34241</td>\n",
       "      <td>1.016593</td>\n",
       "      <td>-1.845348</td>\n",
       "      <td>1.080859</td>\n",
       "      <td>0.720337</td>\n",
       "      <td>1.096678</td>\n",
       "      <td>-1.936855</td>\n",
       "    </tr>\n",
       "    <tr>\n",
       "      <th>2012-10-23</th>\n",
       "      <td>-1.903195</td>\n",
       "      <td>-1.049270</td>\n",
       "      <td>-1.910945</td>\n",
       "      <td>-1.931770</td>\n",
       "      <td>-0.698860</td>\n",
       "      <td>1.34241</td>\n",
       "      <td>1.016593</td>\n",
       "      <td>-1.845348</td>\n",
       "      <td>1.090342</td>\n",
       "      <td>0.834955</td>\n",
       "      <td>1.096678</td>\n",
       "      <td>-1.910838</td>\n",
       "    </tr>\n",
       "  </tbody>\n",
       "</table>\n",
       "</div>"
      ],
      "text/plain": [
       "            7 DAYS MA  7 DAYS STD DEV  14 DAYS MA  21 DAYS MA  dayofweek  \\\n",
       "Date                                                                       \n",
       "2012-10-17  -1.901334       -1.101544   -1.927720   -1.944208   0.008923   \n",
       "2012-10-18  -1.895749       -1.125565   -1.920264   -1.939855   0.716706   \n",
       "2012-10-19  -1.895749       -1.125565   -1.916537   -1.936745   1.424489   \n",
       "2012-10-22  -1.895749       -1.125565   -1.911877   -1.933636  -1.406643   \n",
       "2012-10-23  -1.903195       -1.049270   -1.910945   -1.931770  -0.698860   \n",
       "\n",
       "            quarter     month      year  dayofyear  dayofmonth  weekofyear  \\\n",
       "Date                                                                         \n",
       "2012-10-17  1.34241  1.016593 -1.845348   1.033444    0.147246    1.030312   \n",
       "2012-10-18  1.34241  1.016593 -1.845348   1.042927    0.261864    1.030312   \n",
       "2012-10-19  1.34241  1.016593 -1.845348   1.052410    0.376483    1.030312   \n",
       "2012-10-22  1.34241  1.016593 -1.845348   1.080859    0.720337    1.096678   \n",
       "2012-10-23  1.34241  1.016593 -1.845348   1.090342    0.834955    1.096678   \n",
       "\n",
       "               Close  \n",
       "Date                  \n",
       "2012-10-17 -1.884821  \n",
       "2012-10-18 -1.910838  \n",
       "2012-10-19 -1.910838  \n",
       "2012-10-22 -1.936855  \n",
       "2012-10-23 -1.910838  "
      ]
     },
     "execution_count": 5,
     "metadata": {},
     "output_type": "execute_result"
    }
   ],
   "source": [
    "train_dataset.head()"
   ]
  },
  {
   "cell_type": "code",
   "execution_count": 6,
   "id": "1a8ce270",
   "metadata": {},
   "outputs": [
    {
     "data": {
      "text/html": [
       "<div>\n",
       "<style scoped>\n",
       "    .dataframe tbody tr th:only-of-type {\n",
       "        vertical-align: middle;\n",
       "    }\n",
       "\n",
       "    .dataframe tbody tr th {\n",
       "        vertical-align: top;\n",
       "    }\n",
       "\n",
       "    .dataframe thead th {\n",
       "        text-align: right;\n",
       "    }\n",
       "</style>\n",
       "<table border=\"1\" class=\"dataframe\">\n",
       "  <thead>\n",
       "    <tr style=\"text-align: right;\">\n",
       "      <th></th>\n",
       "      <th>7 DAYS MA</th>\n",
       "      <th>7 DAYS STD DEV</th>\n",
       "      <th>14 DAYS MA</th>\n",
       "      <th>21 DAYS MA</th>\n",
       "      <th>dayofweek</th>\n",
       "      <th>quarter</th>\n",
       "      <th>month</th>\n",
       "      <th>year</th>\n",
       "      <th>dayofyear</th>\n",
       "      <th>dayofmonth</th>\n",
       "      <th>weekofyear</th>\n",
       "      <th>Close</th>\n",
       "    </tr>\n",
       "    <tr>\n",
       "      <th>Date</th>\n",
       "      <th></th>\n",
       "      <th></th>\n",
       "      <th></th>\n",
       "      <th></th>\n",
       "      <th></th>\n",
       "      <th></th>\n",
       "      <th></th>\n",
       "      <th></th>\n",
       "      <th></th>\n",
       "      <th></th>\n",
       "      <th></th>\n",
       "      <th></th>\n",
       "    </tr>\n",
       "  </thead>\n",
       "  <tbody>\n",
       "    <tr>\n",
       "      <th>2020-09-10</th>\n",
       "      <td>-0.668945</td>\n",
       "      <td>-0.239390</td>\n",
       "      <td>-0.605242</td>\n",
       "      <td>-0.574111</td>\n",
       "      <td>0.716706</td>\n",
       "      <td>0.449286</td>\n",
       "      <td>0.727164</td>\n",
       "      <td>0.956789</td>\n",
       "      <td>0.682575</td>\n",
       "      <td>-0.655081</td>\n",
       "      <td>0.698480</td>\n",
       "      <td>-0.909183</td>\n",
       "    </tr>\n",
       "    <tr>\n",
       "      <th>2020-09-11</th>\n",
       "      <td>-0.706178</td>\n",
       "      <td>0.795896</td>\n",
       "      <td>-0.633201</td>\n",
       "      <td>-0.591525</td>\n",
       "      <td>1.424489</td>\n",
       "      <td>0.449286</td>\n",
       "      <td>0.727164</td>\n",
       "      <td>0.956789</td>\n",
       "      <td>0.692058</td>\n",
       "      <td>-0.540462</td>\n",
       "      <td>0.698480</td>\n",
       "      <td>-0.766089</td>\n",
       "    </tr>\n",
       "    <tr>\n",
       "      <th>2020-09-14</th>\n",
       "      <td>-0.732240</td>\n",
       "      <td>0.456503</td>\n",
       "      <td>-0.650909</td>\n",
       "      <td>-0.601476</td>\n",
       "      <td>-1.406643</td>\n",
       "      <td>0.449286</td>\n",
       "      <td>0.727164</td>\n",
       "      <td>0.956789</td>\n",
       "      <td>0.720507</td>\n",
       "      <td>-0.196608</td>\n",
       "      <td>0.764846</td>\n",
       "      <td>-0.662021</td>\n",
       "    </tr>\n",
       "    <tr>\n",
       "      <th>2020-09-15</th>\n",
       "      <td>-0.734102</td>\n",
       "      <td>0.411681</td>\n",
       "      <td>-0.659297</td>\n",
       "      <td>-0.603964</td>\n",
       "      <td>-0.698860</td>\n",
       "      <td>0.449286</td>\n",
       "      <td>0.727164</td>\n",
       "      <td>0.956789</td>\n",
       "      <td>0.729990</td>\n",
       "      <td>-0.081990</td>\n",
       "      <td>0.764846</td>\n",
       "      <td>-0.740072</td>\n",
       "    </tr>\n",
       "    <tr>\n",
       "      <th>2020-09-16</th>\n",
       "      <td>-0.739687</td>\n",
       "      <td>0.377412</td>\n",
       "      <td>-0.677004</td>\n",
       "      <td>-0.611427</td>\n",
       "      <td>0.008923</td>\n",
       "      <td>0.449286</td>\n",
       "      <td>0.727164</td>\n",
       "      <td>0.956789</td>\n",
       "      <td>0.739473</td>\n",
       "      <td>0.032628</td>\n",
       "      <td>0.764846</td>\n",
       "      <td>-0.792106</td>\n",
       "    </tr>\n",
       "  </tbody>\n",
       "</table>\n",
       "</div>"
      ],
      "text/plain": [
       "            7 DAYS MA  7 DAYS STD DEV  14 DAYS MA  21 DAYS MA  dayofweek  \\\n",
       "Date                                                                       \n",
       "2020-09-10  -0.668945       -0.239390   -0.605242   -0.574111   0.716706   \n",
       "2020-09-11  -0.706178        0.795896   -0.633201   -0.591525   1.424489   \n",
       "2020-09-14  -0.732240        0.456503   -0.650909   -0.601476  -1.406643   \n",
       "2020-09-15  -0.734102        0.411681   -0.659297   -0.603964  -0.698860   \n",
       "2020-09-16  -0.739687        0.377412   -0.677004   -0.611427   0.008923   \n",
       "\n",
       "             quarter     month      year  dayofyear  dayofmonth  weekofyear  \\\n",
       "Date                                                                          \n",
       "2020-09-10  0.449286  0.727164  0.956789   0.682575   -0.655081    0.698480   \n",
       "2020-09-11  0.449286  0.727164  0.956789   0.692058   -0.540462    0.698480   \n",
       "2020-09-14  0.449286  0.727164  0.956789   0.720507   -0.196608    0.764846   \n",
       "2020-09-15  0.449286  0.727164  0.956789   0.729990   -0.081990    0.764846   \n",
       "2020-09-16  0.449286  0.727164  0.956789   0.739473    0.032628    0.764846   \n",
       "\n",
       "               Close  \n",
       "Date                  \n",
       "2020-09-10 -0.909183  \n",
       "2020-09-11 -0.766089  \n",
       "2020-09-14 -0.662021  \n",
       "2020-09-15 -0.740072  \n",
       "2020-09-16 -0.792106  "
      ]
     },
     "execution_count": 6,
     "metadata": {},
     "output_type": "execute_result"
    }
   ],
   "source": [
    "test_dataset.head()"
   ]
  },
  {
   "cell_type": "markdown",
   "id": "04f79ca1",
   "metadata": {},
   "source": [
    "### Prep train set"
   ]
  },
  {
   "cell_type": "code",
   "execution_count": 7,
   "id": "8698eebe",
   "metadata": {},
   "outputs": [],
   "source": [
    "hops = 60\n",
    "no_cols = len(df.columns)-1\n",
    "train_len = len(train_dataset)"
   ]
  },
  {
   "cell_type": "code",
   "execution_count": 8,
   "id": "9bce6b43",
   "metadata": {},
   "outputs": [],
   "source": [
    "X_train = []\n",
    "y_train = []\n",
    "\n",
    "for i in range(hops, train_len):\n",
    "    X_train.append(train_dataset[i-60:i])\n",
    "    y_train.append(train_dataset_y.iloc[i][0])\n",
    "    \n",
    "X_train, y_train = np.array(X_train), np.array(y_train)"
   ]
  },
  {
   "cell_type": "code",
   "execution_count": 9,
   "id": "24f7d08c",
   "metadata": {},
   "outputs": [
    {
     "data": {
      "text/plain": [
       "(1907, 60, 12)"
      ]
     },
     "execution_count": 9,
     "metadata": {},
     "output_type": "execute_result"
    }
   ],
   "source": [
    "X_train.shape"
   ]
  },
  {
   "cell_type": "code",
   "execution_count": 10,
   "id": "6c1875f8",
   "metadata": {},
   "outputs": [
    {
     "data": {
      "text/plain": [
       "(1907,)"
      ]
     },
     "execution_count": 10,
     "metadata": {},
     "output_type": "execute_result"
    }
   ],
   "source": [
    "y_train.shape"
   ]
  },
  {
   "cell_type": "markdown",
   "id": "0a19e11e",
   "metadata": {},
   "source": [
    "#### Reshape the array into 3d"
   ]
  },
  {
   "cell_type": "code",
   "execution_count": 11,
   "id": "bcfe06b7",
   "metadata": {},
   "outputs": [
    {
     "data": {
      "text/plain": [
       "(1907, 60, 12)"
      ]
     },
     "execution_count": 11,
     "metadata": {},
     "output_type": "execute_result"
    }
   ],
   "source": [
    "X_train_reshaped = np.reshape(X_train, (X_train.shape[0], X_train.shape[1], X_train.shape[2]))\n",
    "X_train_reshaped.shape"
   ]
  },
  {
   "cell_type": "markdown",
   "id": "730c983e",
   "metadata": {},
   "source": [
    "## LSTM model"
   ]
  },
  {
   "cell_type": "code",
   "execution_count": 12,
   "id": "31a392e9",
   "metadata": {},
   "outputs": [],
   "source": [
    "from keras.models import Sequential\n",
    "from keras.layers import Dense, LSTM, Dropout"
   ]
  },
  {
   "cell_type": "code",
   "execution_count": 13,
   "id": "68e974f4",
   "metadata": {},
   "outputs": [],
   "source": [
    "model = Sequential()\n",
    "model.add(LSTM(units=50, return_sequences=True, input_shape=(60,12)))\n",
    "model.add(Dropout(0.2))\n",
    "model.add(LSTM(units=50))\n",
    "model.add(Dropout(0.2))\n",
    "model.add(Dense(1))\n",
    "model.compile(optimizer='adam', loss='mean_squared_error')"
   ]
  },
  {
   "cell_type": "code",
   "execution_count": 14,
   "id": "3ffda0d3",
   "metadata": {},
   "outputs": [
    {
     "name": "stdout",
     "output_type": "stream",
     "text": [
      "Model: \"sequential\"\n",
      "_________________________________________________________________\n",
      " Layer (type)                Output Shape              Param #   \n",
      "=================================================================\n",
      " lstm (LSTM)                 (None, 60, 50)            12600     \n",
      "                                                                 \n",
      " dropout (Dropout)           (None, 60, 50)            0         \n",
      "                                                                 \n",
      " lstm_1 (LSTM)               (None, 50)                20200     \n",
      "                                                                 \n",
      " dropout_1 (Dropout)         (None, 50)                0         \n",
      "                                                                 \n",
      " dense (Dense)               (None, 1)                 51        \n",
      "                                                                 \n",
      "=================================================================\n",
      "Total params: 32,851\n",
      "Trainable params: 32,851\n",
      "Non-trainable params: 0\n",
      "_________________________________________________________________\n"
     ]
    }
   ],
   "source": [
    "model.summary()"
   ]
  },
  {
   "cell_type": "code",
   "execution_count": 15,
   "id": "279dd9e3",
   "metadata": {},
   "outputs": [
    {
     "name": "stdout",
     "output_type": "stream",
     "text": [
      "Epoch 1/150\n",
      "60/60 [==============================] - 3s 20ms/step - loss: 0.1063\n",
      "Epoch 2/150\n",
      "60/60 [==============================] - 1s 21ms/step - loss: 0.0391\n",
      "Epoch 3/150\n",
      "60/60 [==============================] - 1s 23ms/step - loss: 0.0339\n",
      "Epoch 4/150\n",
      "60/60 [==============================] - 1s 23ms/step - loss: 0.0311\n",
      "Epoch 5/150\n",
      "60/60 [==============================] - 1s 23ms/step - loss: 0.0263\n",
      "Epoch 6/150\n",
      "60/60 [==============================] - 1s 22ms/step - loss: 0.0267\n",
      "Epoch 7/150\n",
      "60/60 [==============================] - 1s 23ms/step - loss: 0.0273\n",
      "Epoch 8/150\n",
      "60/60 [==============================] - 1s 22ms/step - loss: 0.0244\n",
      "Epoch 9/150\n",
      "60/60 [==============================] - 1s 22ms/step - loss: 0.0224\n",
      "Epoch 10/150\n",
      "60/60 [==============================] - 1s 22ms/step - loss: 0.0230\n",
      "Epoch 11/150\n",
      "60/60 [==============================] - 1s 22ms/step - loss: 0.0218\n",
      "Epoch 12/150\n",
      "60/60 [==============================] - 1s 22ms/step - loss: 0.0218\n",
      "Epoch 13/150\n",
      "60/60 [==============================] - 1s 22ms/step - loss: 0.0210\n",
      "Epoch 14/150\n",
      "60/60 [==============================] - 1s 22ms/step - loss: 0.0200\n",
      "Epoch 15/150\n",
      "60/60 [==============================] - 1s 22ms/step - loss: 0.0199\n",
      "Epoch 16/150\n",
      "60/60 [==============================] - 1s 22ms/step - loss: 0.0199\n",
      "Epoch 17/150\n",
      "60/60 [==============================] - 1s 22ms/step - loss: 0.0210\n",
      "Epoch 18/150\n",
      "60/60 [==============================] - 1s 22ms/step - loss: 0.0188\n",
      "Epoch 19/150\n",
      "60/60 [==============================] - 1s 22ms/step - loss: 0.0204\n",
      "Epoch 20/150\n",
      "60/60 [==============================] - 1s 22ms/step - loss: 0.0181\n",
      "Epoch 21/150\n",
      "60/60 [==============================] - 1s 22ms/step - loss: 0.0192\n",
      "Epoch 22/150\n",
      "60/60 [==============================] - 1s 22ms/step - loss: 0.0181\n",
      "Epoch 23/150\n",
      "60/60 [==============================] - 1s 23ms/step - loss: 0.0193\n",
      "Epoch 24/150\n",
      "60/60 [==============================] - 1s 22ms/step - loss: 0.0167\n",
      "Epoch 25/150\n",
      "60/60 [==============================] - 1s 22ms/step - loss: 0.0181\n",
      "Epoch 26/150\n",
      "60/60 [==============================] - 1s 22ms/step - loss: 0.0181\n",
      "Epoch 27/150\n",
      "60/60 [==============================] - 1s 22ms/step - loss: 0.0179\n",
      "Epoch 28/150\n",
      "60/60 [==============================] - 1s 22ms/step - loss: 0.0184\n",
      "Epoch 29/150\n",
      "60/60 [==============================] - 1s 22ms/step - loss: 0.0191\n",
      "Epoch 30/150\n",
      "60/60 [==============================] - 1s 22ms/step - loss: 0.0177\n",
      "Epoch 31/150\n",
      "60/60 [==============================] - 1s 22ms/step - loss: 0.0173\n",
      "Epoch 32/150\n",
      "60/60 [==============================] - 1s 22ms/step - loss: 0.0169\n",
      "Epoch 33/150\n",
      "60/60 [==============================] - 1s 21ms/step - loss: 0.0173\n",
      "Epoch 34/150\n",
      "60/60 [==============================] - 1s 22ms/step - loss: 0.0171\n",
      "Epoch 35/150\n",
      "60/60 [==============================] - 1s 22ms/step - loss: 0.0165\n",
      "Epoch 36/150\n",
      "60/60 [==============================] - 1s 22ms/step - loss: 0.0169\n",
      "Epoch 37/150\n",
      "60/60 [==============================] - 1s 22ms/step - loss: 0.0155\n",
      "Epoch 38/150\n",
      "60/60 [==============================] - 1s 22ms/step - loss: 0.0161\n",
      "Epoch 39/150\n",
      "60/60 [==============================] - 1s 22ms/step - loss: 0.0163\n",
      "Epoch 40/150\n",
      "60/60 [==============================] - 1s 22ms/step - loss: 0.0174\n",
      "Epoch 41/150\n",
      "60/60 [==============================] - 1s 22ms/step - loss: 0.0163\n",
      "Epoch 42/150\n",
      "60/60 [==============================] - 1s 22ms/step - loss: 0.0166\n",
      "Epoch 43/150\n",
      "60/60 [==============================] - 1s 22ms/step - loss: 0.0155\n",
      "Epoch 44/150\n",
      "60/60 [==============================] - 1s 22ms/step - loss: 0.0160\n",
      "Epoch 45/150\n",
      "60/60 [==============================] - 1s 22ms/step - loss: 0.0160\n",
      "Epoch 46/150\n",
      "60/60 [==============================] - 1s 22ms/step - loss: 0.0148\n",
      "Epoch 47/150\n",
      "60/60 [==============================] - 1s 22ms/step - loss: 0.0170\n",
      "Epoch 48/150\n",
      "60/60 [==============================] - 1s 22ms/step - loss: 0.0160\n",
      "Epoch 49/150\n",
      "60/60 [==============================] - 1s 22ms/step - loss: 0.0149\n",
      "Epoch 50/150\n",
      "60/60 [==============================] - 1s 22ms/step - loss: 0.0152\n",
      "Epoch 51/150\n",
      "60/60 [==============================] - 1s 22ms/step - loss: 0.0158\n",
      "Epoch 52/150\n",
      "60/60 [==============================] - 1s 22ms/step - loss: 0.0154\n",
      "Epoch 53/150\n",
      "60/60 [==============================] - 1s 22ms/step - loss: 0.0150\n",
      "Epoch 54/150\n",
      "60/60 [==============================] - 1s 22ms/step - loss: 0.0146\n",
      "Epoch 55/150\n",
      "60/60 [==============================] - 1s 22ms/step - loss: 0.0145\n",
      "Epoch 56/150\n",
      "60/60 [==============================] - 1s 22ms/step - loss: 0.0146\n",
      "Epoch 57/150\n",
      "60/60 [==============================] - 1s 22ms/step - loss: 0.0152\n",
      "Epoch 58/150\n",
      "60/60 [==============================] - 1s 22ms/step - loss: 0.0152\n",
      "Epoch 59/150\n",
      "60/60 [==============================] - 1s 22ms/step - loss: 0.0152\n",
      "Epoch 60/150\n",
      "60/60 [==============================] - 1s 22ms/step - loss: 0.0141\n",
      "Epoch 61/150\n",
      "60/60 [==============================] - 1s 22ms/step - loss: 0.0151\n",
      "Epoch 62/150\n",
      "60/60 [==============================] - 1s 23ms/step - loss: 0.0146\n",
      "Epoch 63/150\n",
      "60/60 [==============================] - 1s 24ms/step - loss: 0.0147\n",
      "Epoch 64/150\n",
      "60/60 [==============================] - 1s 24ms/step - loss: 0.0139\n",
      "Epoch 65/150\n",
      "60/60 [==============================] - 1s 24ms/step - loss: 0.0140\n",
      "Epoch 66/150\n",
      "60/60 [==============================] - 1s 23ms/step - loss: 0.0138\n",
      "Epoch 67/150\n",
      "60/60 [==============================] - 1s 24ms/step - loss: 0.0129\n",
      "Epoch 68/150\n",
      "60/60 [==============================] - 1s 24ms/step - loss: 0.0144\n",
      "Epoch 69/150\n",
      "60/60 [==============================] - 1s 24ms/step - loss: 0.0142\n",
      "Epoch 70/150\n",
      "60/60 [==============================] - 1s 23ms/step - loss: 0.0140\n",
      "Epoch 71/150\n",
      "60/60 [==============================] - 1s 24ms/step - loss: 0.0147\n",
      "Epoch 72/150\n",
      "60/60 [==============================] - 1s 24ms/step - loss: 0.0135\n",
      "Epoch 73/150\n",
      "60/60 [==============================] - 1s 23ms/step - loss: 0.0141\n",
      "Epoch 74/150\n",
      "60/60 [==============================] - 1s 23ms/step - loss: 0.0138\n",
      "Epoch 75/150\n",
      "60/60 [==============================] - 1s 24ms/step - loss: 0.0139\n",
      "Epoch 76/150\n",
      "60/60 [==============================] - 1s 24ms/step - loss: 0.0130\n",
      "Epoch 77/150\n",
      "60/60 [==============================] - 1s 23ms/step - loss: 0.0139\n",
      "Epoch 78/150\n",
      "60/60 [==============================] - 1s 24ms/step - loss: 0.0135\n",
      "Epoch 79/150\n",
      "60/60 [==============================] - 1s 24ms/step - loss: 0.0136\n",
      "Epoch 80/150\n",
      "60/60 [==============================] - 1s 23ms/step - loss: 0.0137\n",
      "Epoch 81/150\n",
      "60/60 [==============================] - 1s 24ms/step - loss: 0.0136\n",
      "Epoch 82/150\n",
      "60/60 [==============================] - 1s 24ms/step - loss: 0.0132\n",
      "Epoch 83/150\n",
      "60/60 [==============================] - 1s 23ms/step - loss: 0.0125\n",
      "Epoch 84/150\n",
      "60/60 [==============================] - 1s 23ms/step - loss: 0.0138\n",
      "Epoch 85/150\n",
      "60/60 [==============================] - 1s 24ms/step - loss: 0.0134\n",
      "Epoch 86/150\n",
      "60/60 [==============================] - 1s 23ms/step - loss: 0.0130\n",
      "Epoch 87/150\n",
      "60/60 [==============================] - 1s 23ms/step - loss: 0.0137\n",
      "Epoch 88/150\n",
      "60/60 [==============================] - 1s 24ms/step - loss: 0.0126\n",
      "Epoch 89/150\n",
      "60/60 [==============================] - 1s 24ms/step - loss: 0.0132\n",
      "Epoch 90/150\n",
      "60/60 [==============================] - 1s 23ms/step - loss: 0.0129\n",
      "Epoch 91/150\n",
      "60/60 [==============================] - 1s 23ms/step - loss: 0.0130\n",
      "Epoch 92/150\n",
      "60/60 [==============================] - 1s 24ms/step - loss: 0.0130\n",
      "Epoch 93/150\n",
      "60/60 [==============================] - 1s 23ms/step - loss: 0.0127\n",
      "Epoch 94/150\n",
      "60/60 [==============================] - 1s 23ms/step - loss: 0.0129\n",
      "Epoch 95/150\n",
      "60/60 [==============================] - 1s 24ms/step - loss: 0.0125\n",
      "Epoch 96/150\n",
      "60/60 [==============================] - 1s 24ms/step - loss: 0.0123\n",
      "Epoch 97/150\n",
      "60/60 [==============================] - 1s 23ms/step - loss: 0.0126\n",
      "Epoch 98/150\n",
      "60/60 [==============================] - 1s 24ms/step - loss: 0.0123\n",
      "Epoch 99/150\n",
      "60/60 [==============================] - 1s 24ms/step - loss: 0.0133\n",
      "Epoch 100/150\n",
      "60/60 [==============================] - 1s 23ms/step - loss: 0.0120\n",
      "Epoch 101/150\n"
     ]
    },
    {
     "name": "stdout",
     "output_type": "stream",
     "text": [
      "60/60 [==============================] - 1s 23ms/step - loss: 0.0121\n",
      "Epoch 102/150\n",
      "60/60 [==============================] - 1s 23ms/step - loss: 0.0133\n",
      "Epoch 103/150\n",
      "60/60 [==============================] - 1s 23ms/step - loss: 0.0125\n",
      "Epoch 104/150\n",
      "60/60 [==============================] - 1s 23ms/step - loss: 0.0131\n",
      "Epoch 105/150\n",
      "60/60 [==============================] - 1s 23ms/step - loss: 0.0120\n",
      "Epoch 106/150\n",
      "60/60 [==============================] - 1s 23ms/step - loss: 0.0122\n",
      "Epoch 107/150\n",
      "60/60 [==============================] - 1s 23ms/step - loss: 0.0125\n",
      "Epoch 108/150\n",
      "60/60 [==============================] - 1s 22ms/step - loss: 0.0124\n",
      "Epoch 109/150\n",
      "60/60 [==============================] - 1s 23ms/step - loss: 0.0125\n",
      "Epoch 110/150\n",
      "60/60 [==============================] - 1s 23ms/step - loss: 0.0130\n",
      "Epoch 111/150\n",
      "60/60 [==============================] - 1s 23ms/step - loss: 0.0131\n",
      "Epoch 112/150\n",
      "60/60 [==============================] - 1s 23ms/step - loss: 0.0122\n",
      "Epoch 113/150\n",
      "60/60 [==============================] - 1s 22ms/step - loss: 0.0120\n",
      "Epoch 114/150\n",
      "60/60 [==============================] - 1s 23ms/step - loss: 0.0121\n",
      "Epoch 115/150\n",
      "60/60 [==============================] - 1s 23ms/step - loss: 0.0126\n",
      "Epoch 116/150\n",
      "60/60 [==============================] - 1s 22ms/step - loss: 0.0118\n",
      "Epoch 117/150\n",
      "60/60 [==============================] - 1s 23ms/step - loss: 0.0122\n",
      "Epoch 118/150\n",
      "60/60 [==============================] - 1s 23ms/step - loss: 0.0119\n",
      "Epoch 119/150\n",
      "60/60 [==============================] - 1s 22ms/step - loss: 0.0116\n",
      "Epoch 120/150\n",
      "60/60 [==============================] - 1s 23ms/step - loss: 0.0125\n",
      "Epoch 121/150\n",
      "60/60 [==============================] - 1s 22ms/step - loss: 0.0119\n",
      "Epoch 122/150\n",
      "60/60 [==============================] - 1s 23ms/step - loss: 0.0126\n",
      "Epoch 123/150\n",
      "60/60 [==============================] - 1s 23ms/step - loss: 0.0116\n",
      "Epoch 124/150\n",
      "60/60 [==============================] - 1s 23ms/step - loss: 0.0115\n",
      "Epoch 125/150\n",
      "60/60 [==============================] - 1s 23ms/step - loss: 0.0110\n",
      "Epoch 126/150\n",
      "60/60 [==============================] - 1s 23ms/step - loss: 0.0109\n",
      "Epoch 127/150\n",
      "60/60 [==============================] - 1s 23ms/step - loss: 0.0120\n",
      "Epoch 128/150\n",
      "60/60 [==============================] - 1s 23ms/step - loss: 0.0116\n",
      "Epoch 129/150\n",
      "60/60 [==============================] - 1s 23ms/step - loss: 0.0113\n",
      "Epoch 130/150\n",
      "60/60 [==============================] - 1s 23ms/step - loss: 0.0116\n",
      "Epoch 131/150\n",
      "60/60 [==============================] - 1s 23ms/step - loss: 0.0123\n",
      "Epoch 132/150\n",
      "60/60 [==============================] - 1s 22ms/step - loss: 0.0117\n",
      "Epoch 133/150\n",
      "60/60 [==============================] - 1s 23ms/step - loss: 0.0115\n",
      "Epoch 134/150\n",
      "60/60 [==============================] - 1s 23ms/step - loss: 0.0118\n",
      "Epoch 135/150\n",
      "60/60 [==============================] - 1s 22ms/step - loss: 0.0118\n",
      "Epoch 136/150\n",
      "60/60 [==============================] - 1s 23ms/step - loss: 0.0125\n",
      "Epoch 137/150\n",
      "60/60 [==============================] - 1s 23ms/step - loss: 0.0114\n",
      "Epoch 138/150\n",
      "60/60 [==============================] - 1s 22ms/step - loss: 0.0110\n",
      "Epoch 139/150\n",
      "60/60 [==============================] - 1s 23ms/step - loss: 0.0119\n",
      "Epoch 140/150\n",
      "60/60 [==============================] - 1s 23ms/step - loss: 0.0122\n",
      "Epoch 141/150\n",
      "60/60 [==============================] - 1s 23ms/step - loss: 0.0113\n",
      "Epoch 142/150\n",
      "60/60 [==============================] - 1s 23ms/step - loss: 0.0115\n",
      "Epoch 143/150\n",
      "60/60 [==============================] - 1s 23ms/step - loss: 0.0120\n",
      "Epoch 144/150\n",
      "60/60 [==============================] - 1s 23ms/step - loss: 0.0104\n",
      "Epoch 145/150\n",
      "60/60 [==============================] - 1s 23ms/step - loss: 0.0111\n",
      "Epoch 146/150\n",
      "60/60 [==============================] - 1s 23ms/step - loss: 0.0111\n",
      "Epoch 147/150\n",
      "60/60 [==============================] - 1s 23ms/step - loss: 0.0111\n",
      "Epoch 148/150\n",
      "60/60 [==============================] - 1s 22ms/step - loss: 0.0122\n",
      "Epoch 149/150\n",
      "60/60 [==============================] - 1s 23ms/step - loss: 0.0118\n",
      "Epoch 150/150\n",
      "60/60 [==============================] - 1s 23ms/step - loss: 0.0108\n"
     ]
    }
   ],
   "source": [
    "history = model.fit(X_train_reshaped, y_train, epochs=150, batch_size=32)"
   ]
  },
  {
   "cell_type": "code",
   "execution_count": 16,
   "id": "f6d102c2",
   "metadata": {
    "scrolled": true
   },
   "outputs": [
    {
     "data": {
      "text/plain": [
       "[<matplotlib.lines.Line2D at 0x1e359f86440>]"
      ]
     },
     "execution_count": 16,
     "metadata": {},
     "output_type": "execute_result"
    },
    {
     "data": {
      "image/png": "[encoded data removed]",
      "text/plain": [
       "<Figure size 640x480 with 1 Axes>"
      ]
     },
     "metadata": {},
     "output_type": "display_data"
    }
   ],
   "source": [
    "plt.plot(history.history['loss'])"
   ]
  },
  {
   "cell_type": "markdown",
   "id": "6fca174d",
   "metadata": {},
   "source": [
    "## Predictions"
   ]
  },
  {
   "cell_type": "markdown",
   "id": "5324812e",
   "metadata": {},
   "source": [
    "### prep test dataset"
   ]
  },
  {
   "cell_type": "code",
   "execution_count": 17,
   "id": "a835af0c",
   "metadata": {},
   "outputs": [],
   "source": [
    "train_dataset_last60 = train_dataset.iloc[-60:]\n",
    "test_dataset_full = test_dataset.copy()\n",
    "test_dataset_full = pd.concat((train_dataset_last60, test_dataset_full), axis=0)"
   ]
  },
  {
   "cell_type": "code",
   "execution_count": 18,
   "id": "2c9e3b61",
   "metadata": {},
   "outputs": [
    {
     "data": {
      "text/plain": [
       "(552, 12)"
      ]
     },
     "execution_count": 18,
     "metadata": {},
     "output_type": "execute_result"
    }
   ],
   "source": [
    "test_dataset_full.shape"
   ]
  },
  {
   "cell_type": "code",
   "execution_count": 19,
   "id": "063fbf6f",
   "metadata": {},
   "outputs": [],
   "source": [
    "test_dataset_full_y = test_dataset_full[['Close']]"
   ]
  },
  {
   "cell_type": "code",
   "execution_count": 20,
   "id": "c07b841d",
   "metadata": {},
   "outputs": [],
   "source": [
    "test_len = test_dataset_full.shape[0]"
   ]
  },
  {
   "cell_type": "code",
   "execution_count": 21,
   "id": "54c7cb1b",
   "metadata": {},
   "outputs": [],
   "source": [
    "X_test = []\n",
    "y_test = []\n",
    "\n",
    "for i in range(hops, test_len):\n",
    "    X_test.append(test_dataset_full[i-60:i])\n",
    "    y_test.append(test_dataset_full_y.iloc[i][0])\n",
    "    \n",
    "X_test, y_test = np.array(X_test), np.array(y_test)"
   ]
  },
  {
   "cell_type": "code",
   "execution_count": 22,
   "id": "6b25dd5a",
   "metadata": {},
   "outputs": [
    {
     "data": {
      "text/plain": [
       "(492, 60, 12)"
      ]
     },
     "execution_count": 22,
     "metadata": {},
     "output_type": "execute_result"
    }
   ],
   "source": [
    "X_test.shape"
   ]
  },
  {
   "cell_type": "markdown",
   "id": "56d14364",
   "metadata": {},
   "source": [
    "### Predict"
   ]
  },
  {
   "cell_type": "code",
   "execution_count": 23,
   "id": "1cac2229",
   "metadata": {},
   "outputs": [
    {
     "name": "stdout",
     "output_type": "stream",
     "text": [
      "16/16 [==============================] - 1s 8ms/step\n"
     ]
    }
   ],
   "source": [
    "predictions = model.predict(X_test)"
   ]
  },
  {
   "cell_type": "code",
   "execution_count": 24,
   "id": "7e91c1b4",
   "metadata": {},
   "outputs": [],
   "source": [
    "actual_close = df[['Close']]\n",
    "actual_close = pd.DataFrame(actual_close.iloc[train_len:, 0])"
   ]
  },
  {
   "cell_type": "code",
   "execution_count": 25,
   "id": "493e8aae",
   "metadata": {},
   "outputs": [],
   "source": [
    "predictions = pd.DataFrame(predictions)\n",
    "predictions.reset_index(drop=True, inplace=True)\n",
    "predictions.index = test_dataset.index\n",
    "predictions['Actual'] = actual_close['Close']\n",
    "predictions.rename(columns={0:'Pred'}, inplace=True)"
   ]
  },
  {
   "cell_type": "code",
   "execution_count": 26,
   "id": "790774bd",
   "metadata": {},
   "outputs": [
    {
     "data": {
      "text/html": [
       "<div>\n",
       "<style scoped>\n",
       "    .dataframe tbody tr th:only-of-type {\n",
       "        vertical-align: middle;\n",
       "    }\n",
       "\n",
       "    .dataframe tbody tr th {\n",
       "        vertical-align: top;\n",
       "    }\n",
       "\n",
       "    .dataframe thead th {\n",
       "        text-align: right;\n",
       "    }\n",
       "</style>\n",
       "<table border=\"1\" class=\"dataframe\">\n",
       "  <thead>\n",
       "    <tr style=\"text-align: right;\">\n",
       "      <th></th>\n",
       "      <th>Pred</th>\n",
       "      <th>Actual</th>\n",
       "    </tr>\n",
       "    <tr>\n",
       "      <th>Date</th>\n",
       "      <th></th>\n",
       "      <th></th>\n",
       "    </tr>\n",
       "  </thead>\n",
       "  <tbody>\n",
       "    <tr>\n",
       "      <th>2020-09-10</th>\n",
       "      <td>-0.697410</td>\n",
       "      <td>-0.909183</td>\n",
       "    </tr>\n",
       "    <tr>\n",
       "      <th>2020-09-11</th>\n",
       "      <td>-0.740060</td>\n",
       "      <td>-0.766089</td>\n",
       "    </tr>\n",
       "    <tr>\n",
       "      <th>2020-09-14</th>\n",
       "      <td>-0.729353</td>\n",
       "      <td>-0.662021</td>\n",
       "    </tr>\n",
       "    <tr>\n",
       "      <th>2020-09-15</th>\n",
       "      <td>-0.676209</td>\n",
       "      <td>-0.740072</td>\n",
       "    </tr>\n",
       "    <tr>\n",
       "      <th>2020-09-16</th>\n",
       "      <td>-0.667596</td>\n",
       "      <td>-0.792106</td>\n",
       "    </tr>\n",
       "    <tr>\n",
       "      <th>...</th>\n",
       "      <td>...</td>\n",
       "      <td>...</td>\n",
       "    </tr>\n",
       "    <tr>\n",
       "      <th>2022-09-12</th>\n",
       "      <td>1.222292</td>\n",
       "      <td>1.484382</td>\n",
       "    </tr>\n",
       "    <tr>\n",
       "      <th>2022-09-13</th>\n",
       "      <td>1.221513</td>\n",
       "      <td>1.458365</td>\n",
       "    </tr>\n",
       "    <tr>\n",
       "      <th>2022-09-14</th>\n",
       "      <td>1.212777</td>\n",
       "      <td>1.406331</td>\n",
       "    </tr>\n",
       "    <tr>\n",
       "      <th>2022-09-15</th>\n",
       "      <td>1.191145</td>\n",
       "      <td>1.432348</td>\n",
       "    </tr>\n",
       "    <tr>\n",
       "      <th>2022-09-16</th>\n",
       "      <td>1.211331</td>\n",
       "      <td>1.315272</td>\n",
       "    </tr>\n",
       "  </tbody>\n",
       "</table>\n",
       "<p>492 rows × 2 columns</p>\n",
       "</div>"
      ],
      "text/plain": [
       "                Pred    Actual\n",
       "Date                          \n",
       "2020-09-10 -0.697410 -0.909183\n",
       "2020-09-11 -0.740060 -0.766089\n",
       "2020-09-14 -0.729353 -0.662021\n",
       "2020-09-15 -0.676209 -0.740072\n",
       "2020-09-16 -0.667596 -0.792106\n",
       "...              ...       ...\n",
       "2022-09-12  1.222292  1.484382\n",
       "2022-09-13  1.221513  1.458365\n",
       "2022-09-14  1.212777  1.406331\n",
       "2022-09-15  1.191145  1.432348\n",
       "2022-09-16  1.211331  1.315272\n",
       "\n",
       "[492 rows x 2 columns]"
      ]
     },
     "execution_count": 26,
     "metadata": {},
     "output_type": "execute_result"
    }
   ],
   "source": [
    "predictions"
   ]
  },
  {
   "cell_type": "code",
   "execution_count": 27,
   "id": "2affc71b",
   "metadata": {},
   "outputs": [
    {
     "data": {
      "text/plain": [
       "<AxesSubplot: xlabel='Date'>"
      ]
     },
     "execution_count": 27,
     "metadata": {},
     "output_type": "execute_result"
    },
    {
     "data": {
      "image/png": "[encoded data removed]",
      "text/plain": [
       "<Figure size 2000x800 with 1 Axes>"
      ]
     },
     "metadata": {},
     "output_type": "display_data"
    }
   ],
   "source": [
    "predictions['Actual'].plot(figsize=(20,8), legend=True, color='blue')\n",
    "predictions['Pred'].plot(legend=True, color='red', figsize=(20,8))"
   ]
  },
  {
   "cell_type": "markdown",
   "id": "1f5ec2ed",
   "metadata": {},
   "source": [
    "### Evaluation"
   ]
  },
  {
   "cell_type": "code",
   "execution_count": 28,
   "id": "6a74ada7",
   "metadata": {},
   "outputs": [],
   "source": [
    "from joblib import load\n",
    "\n",
    "close_scaler = load('../feature_engineering/tlkm_close_scaler.bin')"
   ]
  },
  {
   "cell_type": "code",
   "execution_count": 29,
   "id": "22ca82db",
   "metadata": {},
   "outputs": [],
   "source": [
    "inversed_pred = close_scaler.inverse_transform(np.array(predictions['Pred']).reshape(-1,1))\n",
    "inversed_act = close_scaler.inverse_transform(np.array(predictions['Actual']).reshape(-1,1))"
   ]
  },
  {
   "cell_type": "code",
   "execution_count": 30,
   "id": "e3f52d4b",
   "metadata": {},
   "outputs": [
    {
     "data": {
      "text/html": [
       "<div>\n",
       "<style scoped>\n",
       "    .dataframe tbody tr th:only-of-type {\n",
       "        vertical-align: middle;\n",
       "    }\n",
       "\n",
       "    .dataframe tbody tr th {\n",
       "        vertical-align: top;\n",
       "    }\n",
       "\n",
       "    .dataframe thead th {\n",
       "        text-align: right;\n",
       "    }\n",
       "</style>\n",
       "<table border=\"1\" class=\"dataframe\">\n",
       "  <thead>\n",
       "    <tr style=\"text-align: right;\">\n",
       "      <th></th>\n",
       "      <th>Pred</th>\n",
       "      <th>Actual</th>\n",
       "    </tr>\n",
       "    <tr>\n",
       "      <th>Date</th>\n",
       "      <th></th>\n",
       "      <th></th>\n",
       "    </tr>\n",
       "  </thead>\n",
       "  <tbody>\n",
       "    <tr>\n",
       "      <th>2020-09-10</th>\n",
       "      <td>2862.795410</td>\n",
       "      <td>2700.0</td>\n",
       "    </tr>\n",
       "    <tr>\n",
       "      <th>2020-09-11</th>\n",
       "      <td>2830.009277</td>\n",
       "      <td>2810.0</td>\n",
       "    </tr>\n",
       "  </tbody>\n",
       "</table>\n",
       "</div>"
      ],
      "text/plain": [
       "                   Pred  Actual\n",
       "Date                           \n",
       "2020-09-10  2862.795410  2700.0\n",
       "2020-09-11  2830.009277  2810.0"
      ]
     },
     "execution_count": 30,
     "metadata": {},
     "output_type": "execute_result"
    }
   ],
   "source": [
    "inversed = pd.DataFrame(inversed_pred)\n",
    "inversed['Actual'] = inversed_act\n",
    "inversed.rename({0:'Pred'}, axis=1, inplace=True)\n",
    "inversed.index = test_dataset.index\n",
    "inversed.head(2)"
   ]
  },
  {
   "cell_type": "code",
   "execution_count": 31,
   "id": "67d11f42",
   "metadata": {},
   "outputs": [],
   "source": [
    "def plotErrorHist(inversed_df):\n",
    "    \"\"\"\n",
    "    Function to plot error histogram\n",
    "    \"\"\"\n",
    "    error = inversed_df['Pred'] - inversed_df['Actual']\n",
    "    # plt.hist(error, bins=25)\n",
    "    sns.displot(error)\n",
    "    plt.xlabel('Prediction Error [Close]')\n",
    "    _ = plt.ylabel('Count')"
   ]
  },
  {
   "cell_type": "code",
   "execution_count": 32,
   "id": "658ab601",
   "metadata": {},
   "outputs": [
    {
     "data": {
      "image/png": "[encoded data removed]",
      "text/plain": [
       "<Figure size 500x500 with 1 Axes>"
      ]
     },
     "metadata": {},
     "output_type": "display_data"
    }
   ],
   "source": [
    "plotErrorHist(inversed)"
   ]
  },
  {
   "cell_type": "markdown",
   "id": "116cf1b1",
   "metadata": {},
   "source": [
    "**RMSE**"
   ]
  },
  {
   "cell_type": "code",
   "execution_count": 33,
   "id": "a5e9ec53",
   "metadata": {},
   "outputs": [
    {
     "data": {
      "text/plain": [
       "142.2702980377404"
      ]
     },
     "execution_count": 33,
     "metadata": {},
     "output_type": "execute_result"
    }
   ],
   "source": [
    "from statsmodels.tools.eval_measures import rmse\n",
    "\n",
    "rmse(inversed['Pred'], inversed['Actual'])"
   ]
  },
  {
   "cell_type": "markdown",
   "id": "580f7193",
   "metadata": {},
   "source": [
    "**MAPE**"
   ]
  },
  {
   "cell_type": "code",
   "execution_count": 34,
   "id": "f90bec80",
   "metadata": {},
   "outputs": [
    {
     "data": {
      "text/plain": [
       "2.9267894981476155"
      ]
     },
     "execution_count": 34,
     "metadata": {},
     "output_type": "execute_result"
    }
   ],
   "source": [
    "# mape\n",
    "def mape(actual, pred): \n",
    "    actual, pred = np.array(actual), np.array(pred)\n",
    "    return np.mean(np.abs((actual - pred) / actual)) * 100\n",
    "\n",
    "mape(inversed['Actual'], inversed['Pred'])"
   ]
  },
  {
   "cell_type": "markdown",
   "id": "21620256",
   "metadata": {},
   "source": [
    "**R-squared**"
   ]
  },
  {
   "cell_type": "code",
   "execution_count": 35,
   "id": "f42e3473",
   "metadata": {},
   "outputs": [
    {
     "data": {
      "text/plain": [
       "0.9371460874057632"
      ]
     },
     "execution_count": 35,
     "metadata": {},
     "output_type": "execute_result"
    }
   ],
   "source": [
    "from sklearn.metrics import r2_score\n",
    "\n",
    "r2_score(inversed['Actual'], inversed['Pred'])"
   ]
  }
 ],
 "metadata": {
  "kernelspec": {
   "display_name": "Python 3 (ipykernel)",
   "language": "python",
   "name": "python3"
  },
  "language_info": {
   "codemirror_mode": {
    "name": "ipython",
    "version": 3
   },
   "file_extension": ".py",
   "mimetype": "text/x-python",
   "name": "python",
   "nbconvert_exporter": "python",
   "pygments_lexer": "ipython3",
   "version": "3.10.8"
  }
 },
 "nbformat": 4,
 "nbformat_minor": 5
}
