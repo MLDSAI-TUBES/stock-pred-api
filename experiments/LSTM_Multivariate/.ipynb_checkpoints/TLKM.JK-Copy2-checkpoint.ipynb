{
 "cells": [
  {
   "cell_type": "code",
   "execution_count": 1,
   "id": "b46f9f81",
   "metadata": {},
   "outputs": [],
   "source": [
    "import numpy as np\n",
    "import pandas as pd\n",
    "import seaborn as sns\n",
    "import matplotlib.pyplot as plt"
   ]
  },
  {
   "cell_type": "markdown",
   "id": "7574a6c3",
   "metadata": {},
   "source": [
    "## Load and prep the data"
   ]
  },
  {
   "cell_type": "code",
   "execution_count": 3,
   "id": "f7bd913d",
   "metadata": {},
   "outputs": [
    {
     "data": {
      "text/html": [
       "<div>\n",
       "<style scoped>\n",
       "    .dataframe tbody tr th:only-of-type {\n",
       "        vertical-align: middle;\n",
       "    }\n",
       "\n",
       "    .dataframe tbody tr th {\n",
       "        vertical-align: top;\n",
       "    }\n",
       "\n",
       "    .dataframe thead th {\n",
       "        text-align: right;\n",
       "    }\n",
       "</style>\n",
       "<table border=\"1\" class=\"dataframe\">\n",
       "  <thead>\n",
       "    <tr style=\"text-align: right;\">\n",
       "      <th></th>\n",
       "      <th>7 DAYS MA</th>\n",
       "      <th>7 DAYS STD DEV</th>\n",
       "      <th>14 DAYS MA</th>\n",
       "      <th>21 DAYS MA</th>\n",
       "      <th>dayofweek</th>\n",
       "      <th>quarter</th>\n",
       "      <th>month</th>\n",
       "      <th>year</th>\n",
       "      <th>dayofyear</th>\n",
       "      <th>dayofmonth</th>\n",
       "      <th>weekofyear</th>\n",
       "      <th>Close</th>\n",
       "    </tr>\n",
       "    <tr>\n",
       "      <th>Date</th>\n",
       "      <th></th>\n",
       "      <th></th>\n",
       "      <th></th>\n",
       "      <th></th>\n",
       "      <th></th>\n",
       "      <th></th>\n",
       "      <th></th>\n",
       "      <th></th>\n",
       "      <th></th>\n",
       "      <th></th>\n",
       "      <th></th>\n",
       "      <th></th>\n",
       "    </tr>\n",
       "  </thead>\n",
       "  <tbody>\n",
       "    <tr>\n",
       "      <th>2012-10-17</th>\n",
       "      <td>-1.901334</td>\n",
       "      <td>-1.101544</td>\n",
       "      <td>-1.927720</td>\n",
       "      <td>-1.944208</td>\n",
       "      <td>0.008923</td>\n",
       "      <td>1.34241</td>\n",
       "      <td>1.016593</td>\n",
       "      <td>-1.845348</td>\n",
       "      <td>1.033444</td>\n",
       "      <td>0.147246</td>\n",
       "      <td>1.030312</td>\n",
       "      <td>-1.884821</td>\n",
       "    </tr>\n",
       "    <tr>\n",
       "      <th>2012-10-18</th>\n",
       "      <td>-1.895749</td>\n",
       "      <td>-1.125565</td>\n",
       "      <td>-1.920264</td>\n",
       "      <td>-1.939855</td>\n",
       "      <td>0.716706</td>\n",
       "      <td>1.34241</td>\n",
       "      <td>1.016593</td>\n",
       "      <td>-1.845348</td>\n",
       "      <td>1.042927</td>\n",
       "      <td>0.261864</td>\n",
       "      <td>1.030312</td>\n",
       "      <td>-1.910838</td>\n",
       "    </tr>\n",
       "    <tr>\n",
       "      <th>2012-10-19</th>\n",
       "      <td>-1.895749</td>\n",
       "      <td>-1.125565</td>\n",
       "      <td>-1.916537</td>\n",
       "      <td>-1.936745</td>\n",
       "      <td>1.424489</td>\n",
       "      <td>1.34241</td>\n",
       "      <td>1.016593</td>\n",
       "      <td>-1.845348</td>\n",
       "      <td>1.052410</td>\n",
       "      <td>0.376483</td>\n",
       "      <td>1.030312</td>\n",
       "      <td>-1.910838</td>\n",
       "    </tr>\n",
       "    <tr>\n",
       "      <th>2012-10-22</th>\n",
       "      <td>-1.895749</td>\n",
       "      <td>-1.125565</td>\n",
       "      <td>-1.911877</td>\n",
       "      <td>-1.933636</td>\n",
       "      <td>-1.406643</td>\n",
       "      <td>1.34241</td>\n",
       "      <td>1.016593</td>\n",
       "      <td>-1.845348</td>\n",
       "      <td>1.080859</td>\n",
       "      <td>0.720337</td>\n",
       "      <td>1.096678</td>\n",
       "      <td>-1.936855</td>\n",
       "    </tr>\n",
       "    <tr>\n",
       "      <th>2012-10-23</th>\n",
       "      <td>-1.903195</td>\n",
       "      <td>-1.049270</td>\n",
       "      <td>-1.910945</td>\n",
       "      <td>-1.931770</td>\n",
       "      <td>-0.698860</td>\n",
       "      <td>1.34241</td>\n",
       "      <td>1.016593</td>\n",
       "      <td>-1.845348</td>\n",
       "      <td>1.090342</td>\n",
       "      <td>0.834955</td>\n",
       "      <td>1.096678</td>\n",
       "      <td>-1.910838</td>\n",
       "    </tr>\n",
       "  </tbody>\n",
       "</table>\n",
       "</div>"
      ],
      "text/plain": [
       "            7 DAYS MA  7 DAYS STD DEV  14 DAYS MA  21 DAYS MA  dayofweek  \\\n",
       "Date                                                                       \n",
       "2012-10-17  -1.901334       -1.101544   -1.927720   -1.944208   0.008923   \n",
       "2012-10-18  -1.895749       -1.125565   -1.920264   -1.939855   0.716706   \n",
       "2012-10-19  -1.895749       -1.125565   -1.916537   -1.936745   1.424489   \n",
       "2012-10-22  -1.895749       -1.125565   -1.911877   -1.933636  -1.406643   \n",
       "2012-10-23  -1.903195       -1.049270   -1.910945   -1.931770  -0.698860   \n",
       "\n",
       "            quarter     month      year  dayofyear  dayofmonth  weekofyear  \\\n",
       "Date                                                                         \n",
       "2012-10-17  1.34241  1.016593 -1.845348   1.033444    0.147246    1.030312   \n",
       "2012-10-18  1.34241  1.016593 -1.845348   1.042927    0.261864    1.030312   \n",
       "2012-10-19  1.34241  1.016593 -1.845348   1.052410    0.376483    1.030312   \n",
       "2012-10-22  1.34241  1.016593 -1.845348   1.080859    0.720337    1.096678   \n",
       "2012-10-23  1.34241  1.016593 -1.845348   1.090342    0.834955    1.096678   \n",
       "\n",
       "               Close  \n",
       "Date                  \n",
       "2012-10-17 -1.884821  \n",
       "2012-10-18 -1.910838  \n",
       "2012-10-19 -1.910838  \n",
       "2012-10-22 -1.936855  \n",
       "2012-10-23 -1.910838  "
      ]
     },
     "execution_count": 3,
     "metadata": {},
     "output_type": "execute_result"
    }
   ],
   "source": [
    "df = pd.read_csv('../cleaned_data/TLKM.csv', index_col='Date', parse_dates=True)\n",
    "df.head()"
   ]
  },
  {
   "cell_type": "markdown",
   "id": "7e1ee8a2",
   "metadata": {},
   "source": [
    "### Split the dataset"
   ]
  },
  {
   "cell_type": "code",
   "execution_count": 4,
   "id": "f6c8fbae",
   "metadata": {},
   "outputs": [],
   "source": [
    "train_len = int(len(df)*.8)\n",
    "train_dataset = df[:train_len]\n",
    "test_dataset = df[train_len:len(df)]"
   ]
  },
  {
   "cell_type": "code",
   "execution_count": 5,
   "id": "e4849c5a",
   "metadata": {},
   "outputs": [],
   "source": [
    "train_dataset_y = train_dataset[['Close']]"
   ]
  },
  {
   "cell_type": "code",
   "execution_count": 6,
   "id": "06910ab1",
   "metadata": {},
   "outputs": [
    {
     "data": {
      "text/html": [
       "<div>\n",
       "<style scoped>\n",
       "    .dataframe tbody tr th:only-of-type {\n",
       "        vertical-align: middle;\n",
       "    }\n",
       "\n",
       "    .dataframe tbody tr th {\n",
       "        vertical-align: top;\n",
       "    }\n",
       "\n",
       "    .dataframe thead th {\n",
       "        text-align: right;\n",
       "    }\n",
       "</style>\n",
       "<table border=\"1\" class=\"dataframe\">\n",
       "  <thead>\n",
       "    <tr style=\"text-align: right;\">\n",
       "      <th></th>\n",
       "      <th>7 DAYS MA</th>\n",
       "      <th>7 DAYS STD DEV</th>\n",
       "      <th>14 DAYS MA</th>\n",
       "      <th>21 DAYS MA</th>\n",
       "      <th>dayofweek</th>\n",
       "      <th>quarter</th>\n",
       "      <th>month</th>\n",
       "      <th>year</th>\n",
       "      <th>dayofyear</th>\n",
       "      <th>dayofmonth</th>\n",
       "      <th>weekofyear</th>\n",
       "      <th>Close</th>\n",
       "    </tr>\n",
       "    <tr>\n",
       "      <th>Date</th>\n",
       "      <th></th>\n",
       "      <th></th>\n",
       "      <th></th>\n",
       "      <th></th>\n",
       "      <th></th>\n",
       "      <th></th>\n",
       "      <th></th>\n",
       "      <th></th>\n",
       "      <th></th>\n",
       "      <th></th>\n",
       "      <th></th>\n",
       "      <th></th>\n",
       "    </tr>\n",
       "  </thead>\n",
       "  <tbody>\n",
       "    <tr>\n",
       "      <th>2012-10-17</th>\n",
       "      <td>-1.901334</td>\n",
       "      <td>-1.101544</td>\n",
       "      <td>-1.927720</td>\n",
       "      <td>-1.944208</td>\n",
       "      <td>0.008923</td>\n",
       "      <td>1.34241</td>\n",
       "      <td>1.016593</td>\n",
       "      <td>-1.845348</td>\n",
       "      <td>1.033444</td>\n",
       "      <td>0.147246</td>\n",
       "      <td>1.030312</td>\n",
       "      <td>-1.884821</td>\n",
       "    </tr>\n",
       "    <tr>\n",
       "      <th>2012-10-18</th>\n",
       "      <td>-1.895749</td>\n",
       "      <td>-1.125565</td>\n",
       "      <td>-1.920264</td>\n",
       "      <td>-1.939855</td>\n",
       "      <td>0.716706</td>\n",
       "      <td>1.34241</td>\n",
       "      <td>1.016593</td>\n",
       "      <td>-1.845348</td>\n",
       "      <td>1.042927</td>\n",
       "      <td>0.261864</td>\n",
       "      <td>1.030312</td>\n",
       "      <td>-1.910838</td>\n",
       "    </tr>\n",
       "    <tr>\n",
       "      <th>2012-10-19</th>\n",
       "      <td>-1.895749</td>\n",
       "      <td>-1.125565</td>\n",
       "      <td>-1.916537</td>\n",
       "      <td>-1.936745</td>\n",
       "      <td>1.424489</td>\n",
       "      <td>1.34241</td>\n",
       "      <td>1.016593</td>\n",
       "      <td>-1.845348</td>\n",
       "      <td>1.052410</td>\n",
       "      <td>0.376483</td>\n",
       "      <td>1.030312</td>\n",
       "      <td>-1.910838</td>\n",
       "    </tr>\n",
       "    <tr>\n",
       "      <th>2012-10-22</th>\n",
       "      <td>-1.895749</td>\n",
       "      <td>-1.125565</td>\n",
       "      <td>-1.911877</td>\n",
       "      <td>-1.933636</td>\n",
       "      <td>-1.406643</td>\n",
       "      <td>1.34241</td>\n",
       "      <td>1.016593</td>\n",
       "      <td>-1.845348</td>\n",
       "      <td>1.080859</td>\n",
       "      <td>0.720337</td>\n",
       "      <td>1.096678</td>\n",
       "      <td>-1.936855</td>\n",
       "    </tr>\n",
       "    <tr>\n",
       "      <th>2012-10-23</th>\n",
       "      <td>-1.903195</td>\n",
       "      <td>-1.049270</td>\n",
       "      <td>-1.910945</td>\n",
       "      <td>-1.931770</td>\n",
       "      <td>-0.698860</td>\n",
       "      <td>1.34241</td>\n",
       "      <td>1.016593</td>\n",
       "      <td>-1.845348</td>\n",
       "      <td>1.090342</td>\n",
       "      <td>0.834955</td>\n",
       "      <td>1.096678</td>\n",
       "      <td>-1.910838</td>\n",
       "    </tr>\n",
       "  </tbody>\n",
       "</table>\n",
       "</div>"
      ],
      "text/plain": [
       "            7 DAYS MA  7 DAYS STD DEV  14 DAYS MA  21 DAYS MA  dayofweek  \\\n",
       "Date                                                                       \n",
       "2012-10-17  -1.901334       -1.101544   -1.927720   -1.944208   0.008923   \n",
       "2012-10-18  -1.895749       -1.125565   -1.920264   -1.939855   0.716706   \n",
       "2012-10-19  -1.895749       -1.125565   -1.916537   -1.936745   1.424489   \n",
       "2012-10-22  -1.895749       -1.125565   -1.911877   -1.933636  -1.406643   \n",
       "2012-10-23  -1.903195       -1.049270   -1.910945   -1.931770  -0.698860   \n",
       "\n",
       "            quarter     month      year  dayofyear  dayofmonth  weekofyear  \\\n",
       "Date                                                                         \n",
       "2012-10-17  1.34241  1.016593 -1.845348   1.033444    0.147246    1.030312   \n",
       "2012-10-18  1.34241  1.016593 -1.845348   1.042927    0.261864    1.030312   \n",
       "2012-10-19  1.34241  1.016593 -1.845348   1.052410    0.376483    1.030312   \n",
       "2012-10-22  1.34241  1.016593 -1.845348   1.080859    0.720337    1.096678   \n",
       "2012-10-23  1.34241  1.016593 -1.845348   1.090342    0.834955    1.096678   \n",
       "\n",
       "               Close  \n",
       "Date                  \n",
       "2012-10-17 -1.884821  \n",
       "2012-10-18 -1.910838  \n",
       "2012-10-19 -1.910838  \n",
       "2012-10-22 -1.936855  \n",
       "2012-10-23 -1.910838  "
      ]
     },
     "execution_count": 6,
     "metadata": {},
     "output_type": "execute_result"
    }
   ],
   "source": [
    "train_dataset.head()"
   ]
  },
  {
   "cell_type": "code",
   "execution_count": 7,
   "id": "1a8ce270",
   "metadata": {},
   "outputs": [
    {
     "data": {
      "text/html": [
       "<div>\n",
       "<style scoped>\n",
       "    .dataframe tbody tr th:only-of-type {\n",
       "        vertical-align: middle;\n",
       "    }\n",
       "\n",
       "    .dataframe tbody tr th {\n",
       "        vertical-align: top;\n",
       "    }\n",
       "\n",
       "    .dataframe thead th {\n",
       "        text-align: right;\n",
       "    }\n",
       "</style>\n",
       "<table border=\"1\" class=\"dataframe\">\n",
       "  <thead>\n",
       "    <tr style=\"text-align: right;\">\n",
       "      <th></th>\n",
       "      <th>7 DAYS MA</th>\n",
       "      <th>7 DAYS STD DEV</th>\n",
       "      <th>14 DAYS MA</th>\n",
       "      <th>21 DAYS MA</th>\n",
       "      <th>dayofweek</th>\n",
       "      <th>quarter</th>\n",
       "      <th>month</th>\n",
       "      <th>year</th>\n",
       "      <th>dayofyear</th>\n",
       "      <th>dayofmonth</th>\n",
       "      <th>weekofyear</th>\n",
       "      <th>Close</th>\n",
       "    </tr>\n",
       "    <tr>\n",
       "      <th>Date</th>\n",
       "      <th></th>\n",
       "      <th></th>\n",
       "      <th></th>\n",
       "      <th></th>\n",
       "      <th></th>\n",
       "      <th></th>\n",
       "      <th></th>\n",
       "      <th></th>\n",
       "      <th></th>\n",
       "      <th></th>\n",
       "      <th></th>\n",
       "      <th></th>\n",
       "    </tr>\n",
       "  </thead>\n",
       "  <tbody>\n",
       "    <tr>\n",
       "      <th>2020-09-10</th>\n",
       "      <td>-0.668945</td>\n",
       "      <td>-0.239390</td>\n",
       "      <td>-0.605242</td>\n",
       "      <td>-0.574111</td>\n",
       "      <td>0.716706</td>\n",
       "      <td>0.449286</td>\n",
       "      <td>0.727164</td>\n",
       "      <td>0.956789</td>\n",
       "      <td>0.682575</td>\n",
       "      <td>-0.655081</td>\n",
       "      <td>0.698480</td>\n",
       "      <td>-0.909183</td>\n",
       "    </tr>\n",
       "    <tr>\n",
       "      <th>2020-09-11</th>\n",
       "      <td>-0.706178</td>\n",
       "      <td>0.795896</td>\n",
       "      <td>-0.633201</td>\n",
       "      <td>-0.591525</td>\n",
       "      <td>1.424489</td>\n",
       "      <td>0.449286</td>\n",
       "      <td>0.727164</td>\n",
       "      <td>0.956789</td>\n",
       "      <td>0.692058</td>\n",
       "      <td>-0.540462</td>\n",
       "      <td>0.698480</td>\n",
       "      <td>-0.766089</td>\n",
       "    </tr>\n",
       "    <tr>\n",
       "      <th>2020-09-14</th>\n",
       "      <td>-0.732240</td>\n",
       "      <td>0.456503</td>\n",
       "      <td>-0.650909</td>\n",
       "      <td>-0.601476</td>\n",
       "      <td>-1.406643</td>\n",
       "      <td>0.449286</td>\n",
       "      <td>0.727164</td>\n",
       "      <td>0.956789</td>\n",
       "      <td>0.720507</td>\n",
       "      <td>-0.196608</td>\n",
       "      <td>0.764846</td>\n",
       "      <td>-0.662021</td>\n",
       "    </tr>\n",
       "    <tr>\n",
       "      <th>2020-09-15</th>\n",
       "      <td>-0.734102</td>\n",
       "      <td>0.411681</td>\n",
       "      <td>-0.659297</td>\n",
       "      <td>-0.603964</td>\n",
       "      <td>-0.698860</td>\n",
       "      <td>0.449286</td>\n",
       "      <td>0.727164</td>\n",
       "      <td>0.956789</td>\n",
       "      <td>0.729990</td>\n",
       "      <td>-0.081990</td>\n",
       "      <td>0.764846</td>\n",
       "      <td>-0.740072</td>\n",
       "    </tr>\n",
       "    <tr>\n",
       "      <th>2020-09-16</th>\n",
       "      <td>-0.739687</td>\n",
       "      <td>0.377412</td>\n",
       "      <td>-0.677004</td>\n",
       "      <td>-0.611427</td>\n",
       "      <td>0.008923</td>\n",
       "      <td>0.449286</td>\n",
       "      <td>0.727164</td>\n",
       "      <td>0.956789</td>\n",
       "      <td>0.739473</td>\n",
       "      <td>0.032628</td>\n",
       "      <td>0.764846</td>\n",
       "      <td>-0.792106</td>\n",
       "    </tr>\n",
       "  </tbody>\n",
       "</table>\n",
       "</div>"
      ],
      "text/plain": [
       "            7 DAYS MA  7 DAYS STD DEV  14 DAYS MA  21 DAYS MA  dayofweek  \\\n",
       "Date                                                                       \n",
       "2020-09-10  -0.668945       -0.239390   -0.605242   -0.574111   0.716706   \n",
       "2020-09-11  -0.706178        0.795896   -0.633201   -0.591525   1.424489   \n",
       "2020-09-14  -0.732240        0.456503   -0.650909   -0.601476  -1.406643   \n",
       "2020-09-15  -0.734102        0.411681   -0.659297   -0.603964  -0.698860   \n",
       "2020-09-16  -0.739687        0.377412   -0.677004   -0.611427   0.008923   \n",
       "\n",
       "             quarter     month      year  dayofyear  dayofmonth  weekofyear  \\\n",
       "Date                                                                          \n",
       "2020-09-10  0.449286  0.727164  0.956789   0.682575   -0.655081    0.698480   \n",
       "2020-09-11  0.449286  0.727164  0.956789   0.692058   -0.540462    0.698480   \n",
       "2020-09-14  0.449286  0.727164  0.956789   0.720507   -0.196608    0.764846   \n",
       "2020-09-15  0.449286  0.727164  0.956789   0.729990   -0.081990    0.764846   \n",
       "2020-09-16  0.449286  0.727164  0.956789   0.739473    0.032628    0.764846   \n",
       "\n",
       "               Close  \n",
       "Date                  \n",
       "2020-09-10 -0.909183  \n",
       "2020-09-11 -0.766089  \n",
       "2020-09-14 -0.662021  \n",
       "2020-09-15 -0.740072  \n",
       "2020-09-16 -0.792106  "
      ]
     },
     "execution_count": 7,
     "metadata": {},
     "output_type": "execute_result"
    }
   ],
   "source": [
    "test_dataset.head()"
   ]
  },
  {
   "cell_type": "markdown",
   "id": "04f79ca1",
   "metadata": {},
   "source": [
    "### Prep train set"
   ]
  },
  {
   "cell_type": "code",
   "execution_count": 8,
   "id": "8698eebe",
   "metadata": {},
   "outputs": [],
   "source": [
    "hops = 60\n",
    "no_cols = len(df.columns)-1\n",
    "train_len = len(train_dataset)"
   ]
  },
  {
   "cell_type": "code",
   "execution_count": 9,
   "id": "9bce6b43",
   "metadata": {},
   "outputs": [],
   "source": [
    "X_train = []\n",
    "y_train = []\n",
    "\n",
    "for i in range(hops, train_len):\n",
    "    X_train.append(train_dataset[i-60:i])\n",
    "    y_train.append(train_dataset_y.iloc[i][0])\n",
    "    \n",
    "X_train, y_train = np.array(X_train), np.array(y_train)"
   ]
  },
  {
   "cell_type": "code",
   "execution_count": 19,
   "id": "24f7d08c",
   "metadata": {},
   "outputs": [
    {
     "data": {
      "text/plain": [
       "(1907, 60, 12)"
      ]
     },
     "execution_count": 19,
     "metadata": {},
     "output_type": "execute_result"
    }
   ],
   "source": [
    "X_train.shape"
   ]
  },
  {
   "cell_type": "code",
   "execution_count": 20,
   "id": "6c1875f8",
   "metadata": {},
   "outputs": [
    {
     "data": {
      "text/plain": [
       "(1907,)"
      ]
     },
     "execution_count": 20,
     "metadata": {},
     "output_type": "execute_result"
    }
   ],
   "source": [
    "y_train.shape"
   ]
  },
  {
   "cell_type": "markdown",
   "id": "0a19e11e",
   "metadata": {},
   "source": [
    "#### Reshape the array into 3d"
   ]
  },
  {
   "cell_type": "code",
   "execution_count": 21,
   "id": "bcfe06b7",
   "metadata": {},
   "outputs": [
    {
     "data": {
      "text/plain": [
       "(1907, 60, 12)"
      ]
     },
     "execution_count": 21,
     "metadata": {},
     "output_type": "execute_result"
    }
   ],
   "source": [
    "X_train_reshaped = np.reshape(X_train, (X_train.shape[0], X_train.shape[1], X_train.shape[2]))\n",
    "X_train_reshaped.shape"
   ]
  },
  {
   "cell_type": "markdown",
   "id": "730c983e",
   "metadata": {},
   "source": [
    "## LSTM model"
   ]
  },
  {
   "cell_type": "code",
   "execution_count": 22,
   "id": "31a392e9",
   "metadata": {},
   "outputs": [],
   "source": [
    "from keras.models import Sequential\n",
    "from keras.layers import Dense, LSTM, Dropout"
   ]
  },
  {
   "cell_type": "code",
   "execution_count": 23,
   "id": "68e974f4",
   "metadata": {},
   "outputs": [],
   "source": [
    "model = Sequential()\n",
    "model.add(LSTM(units=50, return_sequences=True, input_shape=(60,12)))\n",
    "model.add(Dropout(0.2))\n",
    "model.add(LSTM(units=50))\n",
    "model.add(Dropout(0.2))\n",
    "model.add(Dense(1))\n",
    "model.compile(optimizer='adam', loss='mean_squared_error')"
   ]
  },
  {
   "cell_type": "code",
   "execution_count": 24,
   "id": "3ffda0d3",
   "metadata": {},
   "outputs": [
    {
     "name": "stdout",
     "output_type": "stream",
     "text": [
      "Model: \"sequential\"\n",
      "_________________________________________________________________\n",
      " Layer (type)                Output Shape              Param #   \n",
      "=================================================================\n",
      " lstm (LSTM)                 (None, 60, 50)            12600     \n",
      "                                                                 \n",
      " dropout (Dropout)           (None, 60, 50)            0         \n",
      "                                                                 \n",
      " lstm_1 (LSTM)               (None, 50)                20200     \n",
      "                                                                 \n",
      " dropout_1 (Dropout)         (None, 50)                0         \n",
      "                                                                 \n",
      " dense (Dense)               (None, 1)                 51        \n",
      "                                                                 \n",
      "=================================================================\n",
      "Total params: 32,851\n",
      "Trainable params: 32,851\n",
      "Non-trainable params: 0\n",
      "_________________________________________________________________\n"
     ]
    }
   ],
   "source": [
    "model.summary()"
   ]
  },
  {
   "cell_type": "code",
   "execution_count": 26,
   "id": "279dd9e3",
   "metadata": {},
   "outputs": [
    {
     "name": "stdout",
     "output_type": "stream",
     "text": [
      "Epoch 1/100\n",
      "60/60 [==============================] - 3s 23ms/step - loss: 0.1501\n",
      "Epoch 2/100\n",
      "60/60 [==============================] - 1s 24ms/step - loss: 0.0363\n",
      "Epoch 3/100\n",
      "60/60 [==============================] - 1s 24ms/step - loss: 0.0337\n",
      "Epoch 4/100\n",
      "60/60 [==============================] - 1s 24ms/step - loss: 0.0311\n",
      "Epoch 5/100\n",
      "60/60 [==============================] - 1s 24ms/step - loss: 0.0283\n",
      "Epoch 6/100\n",
      "60/60 [==============================] - 1s 23ms/step - loss: 0.0272\n",
      "Epoch 7/100\n",
      "60/60 [==============================] - 1s 23ms/step - loss: 0.0250\n",
      "Epoch 8/100\n",
      "60/60 [==============================] - 1s 23ms/step - loss: 0.0240\n",
      "Epoch 9/100\n",
      "60/60 [==============================] - 1s 23ms/step - loss: 0.0235\n",
      "Epoch 10/100\n",
      "60/60 [==============================] - 1s 23ms/step - loss: 0.0228\n",
      "Epoch 11/100\n",
      "60/60 [==============================] - 1s 23ms/step - loss: 0.0219\n",
      "Epoch 12/100\n",
      "60/60 [==============================] - 1s 23ms/step - loss: 0.0218\n",
      "Epoch 13/100\n",
      "60/60 [==============================] - 1s 23ms/step - loss: 0.0218\n",
      "Epoch 14/100\n",
      "60/60 [==============================] - 1s 23ms/step - loss: 0.0211\n",
      "Epoch 15/100\n",
      "60/60 [==============================] - 1s 23ms/step - loss: 0.0211\n",
      "Epoch 16/100\n",
      "60/60 [==============================] - 1s 23ms/step - loss: 0.0195\n",
      "Epoch 17/100\n",
      "60/60 [==============================] - 1s 23ms/step - loss: 0.0203\n",
      "Epoch 18/100\n",
      "60/60 [==============================] - 1s 23ms/step - loss: 0.0192\n",
      "Epoch 19/100\n",
      "60/60 [==============================] - 1s 23ms/step - loss: 0.0195\n",
      "Epoch 20/100\n",
      "60/60 [==============================] - 1s 23ms/step - loss: 0.0185\n",
      "Epoch 21/100\n",
      "60/60 [==============================] - 1s 22ms/step - loss: 0.0198\n",
      "Epoch 22/100\n",
      "60/60 [==============================] - 1s 23ms/step - loss: 0.0190\n",
      "Epoch 23/100\n",
      "60/60 [==============================] - 1s 23ms/step - loss: 0.0192\n",
      "Epoch 24/100\n",
      "60/60 [==============================] - 1s 23ms/step - loss: 0.0183\n",
      "Epoch 25/100\n",
      "60/60 [==============================] - 1s 22ms/step - loss: 0.0185\n",
      "Epoch 26/100\n",
      "60/60 [==============================] - 1s 23ms/step - loss: 0.0190\n",
      "Epoch 27/100\n",
      "60/60 [==============================] - 1s 23ms/step - loss: 0.0174\n",
      "Epoch 28/100\n",
      "60/60 [==============================] - 1s 23ms/step - loss: 0.0164\n",
      "Epoch 29/100\n",
      "60/60 [==============================] - 1s 23ms/step - loss: 0.0184\n",
      "Epoch 30/100\n",
      "60/60 [==============================] - 1s 23ms/step - loss: 0.0188\n",
      "Epoch 31/100\n",
      "60/60 [==============================] - 1s 23ms/step - loss: 0.0178\n",
      "Epoch 32/100\n",
      "60/60 [==============================] - 1s 23ms/step - loss: 0.0164\n",
      "Epoch 33/100\n",
      "60/60 [==============================] - 1s 23ms/step - loss: 0.0169\n",
      "Epoch 34/100\n",
      "60/60 [==============================] - 1s 23ms/step - loss: 0.0173\n",
      "Epoch 35/100\n",
      "60/60 [==============================] - 1s 23ms/step - loss: 0.0165\n",
      "Epoch 36/100\n",
      "60/60 [==============================] - 1s 23ms/step - loss: 0.0175\n",
      "Epoch 37/100\n",
      "60/60 [==============================] - 1s 23ms/step - loss: 0.0178\n",
      "Epoch 38/100\n",
      "60/60 [==============================] - 1s 23ms/step - loss: 0.0170\n",
      "Epoch 39/100\n",
      "60/60 [==============================] - 1s 23ms/step - loss: 0.0184\n",
      "Epoch 40/100\n",
      "60/60 [==============================] - 1s 23ms/step - loss: 0.0178\n",
      "Epoch 41/100\n",
      "60/60 [==============================] - 1s 23ms/step - loss: 0.0159\n",
      "Epoch 42/100\n",
      "60/60 [==============================] - 1s 23ms/step - loss: 0.0166\n",
      "Epoch 43/100\n",
      "60/60 [==============================] - 1s 23ms/step - loss: 0.0155\n",
      "Epoch 44/100\n",
      "60/60 [==============================] - 1s 23ms/step - loss: 0.0158\n",
      "Epoch 45/100\n",
      "60/60 [==============================] - 1s 23ms/step - loss: 0.0156\n",
      "Epoch 46/100\n",
      "60/60 [==============================] - 1s 23ms/step - loss: 0.0167\n",
      "Epoch 47/100\n",
      "60/60 [==============================] - 1s 23ms/step - loss: 0.0158\n",
      "Epoch 48/100\n",
      "60/60 [==============================] - 1s 23ms/step - loss: 0.0160\n",
      "Epoch 49/100\n",
      "60/60 [==============================] - 1s 23ms/step - loss: 0.0168\n",
      "Epoch 50/100\n",
      "60/60 [==============================] - 1s 23ms/step - loss: 0.0171\n",
      "Epoch 51/100\n",
      "60/60 [==============================] - 1s 23ms/step - loss: 0.0146\n",
      "Epoch 52/100\n",
      "60/60 [==============================] - 1s 23ms/step - loss: 0.0152\n",
      "Epoch 53/100\n",
      "60/60 [==============================] - 1s 23ms/step - loss: 0.0141\n",
      "Epoch 54/100\n",
      "60/60 [==============================] - 1s 23ms/step - loss: 0.0148\n",
      "Epoch 55/100\n",
      "60/60 [==============================] - 1s 23ms/step - loss: 0.0148\n",
      "Epoch 56/100\n",
      "60/60 [==============================] - 1s 23ms/step - loss: 0.0147\n",
      "Epoch 57/100\n",
      "60/60 [==============================] - 1s 23ms/step - loss: 0.0151\n",
      "Epoch 58/100\n",
      "60/60 [==============================] - 1s 23ms/step - loss: 0.0151\n",
      "Epoch 59/100\n",
      "60/60 [==============================] - 1s 23ms/step - loss: 0.0159\n",
      "Epoch 60/100\n",
      "60/60 [==============================] - 1s 23ms/step - loss: 0.0151\n",
      "Epoch 61/100\n",
      "60/60 [==============================] - 1s 23ms/step - loss: 0.0148\n",
      "Epoch 62/100\n",
      "60/60 [==============================] - 1s 23ms/step - loss: 0.0154\n",
      "Epoch 63/100\n",
      "60/60 [==============================] - 1s 23ms/step - loss: 0.0141\n",
      "Epoch 64/100\n",
      "60/60 [==============================] - 1s 24ms/step - loss: 0.0141\n",
      "Epoch 65/100\n",
      "60/60 [==============================] - 1s 23ms/step - loss: 0.0143\n",
      "Epoch 66/100\n",
      "60/60 [==============================] - 1s 23ms/step - loss: 0.0137\n",
      "Epoch 67/100\n",
      "60/60 [==============================] - 1s 23ms/step - loss: 0.0151\n",
      "Epoch 68/100\n",
      "60/60 [==============================] - 1s 23ms/step - loss: 0.0140\n",
      "Epoch 69/100\n",
      "60/60 [==============================] - 1s 23ms/step - loss: 0.0144\n",
      "Epoch 70/100\n",
      "60/60 [==============================] - 1s 23ms/step - loss: 0.0136\n",
      "Epoch 71/100\n",
      "60/60 [==============================] - 1s 23ms/step - loss: 0.0143\n",
      "Epoch 72/100\n",
      "60/60 [==============================] - 1s 23ms/step - loss: 0.0138\n",
      "Epoch 73/100\n",
      "60/60 [==============================] - 1s 23ms/step - loss: 0.0131\n",
      "Epoch 74/100\n",
      "60/60 [==============================] - 1s 23ms/step - loss: 0.0148\n",
      "Epoch 75/100\n",
      "60/60 [==============================] - 1s 23ms/step - loss: 0.0139\n",
      "Epoch 76/100\n",
      "60/60 [==============================] - 1s 23ms/step - loss: 0.0136\n",
      "Epoch 77/100\n",
      "60/60 [==============================] - 1s 23ms/step - loss: 0.0127\n",
      "Epoch 78/100\n",
      "60/60 [==============================] - 1s 23ms/step - loss: 0.0135\n",
      "Epoch 79/100\n",
      "60/60 [==============================] - 1s 23ms/step - loss: 0.0125\n",
      "Epoch 80/100\n",
      "60/60 [==============================] - 1s 24ms/step - loss: 0.0128\n",
      "Epoch 81/100\n",
      "60/60 [==============================] - 1s 23ms/step - loss: 0.0142\n",
      "Epoch 82/100\n",
      "60/60 [==============================] - 1s 23ms/step - loss: 0.0133\n",
      "Epoch 83/100\n",
      "60/60 [==============================] - 1s 23ms/step - loss: 0.0128\n",
      "Epoch 84/100\n",
      "60/60 [==============================] - 1s 23ms/step - loss: 0.0129\n",
      "Epoch 85/100\n",
      "60/60 [==============================] - 1s 23ms/step - loss: 0.0137\n",
      "Epoch 86/100\n",
      "60/60 [==============================] - 1s 23ms/step - loss: 0.0131\n",
      "Epoch 87/100\n",
      "60/60 [==============================] - 1s 23ms/step - loss: 0.0127\n",
      "Epoch 88/100\n",
      "60/60 [==============================] - 1s 23ms/step - loss: 0.0131\n",
      "Epoch 89/100\n",
      "60/60 [==============================] - 1s 23ms/step - loss: 0.0126\n",
      "Epoch 90/100\n",
      "60/60 [==============================] - 1s 23ms/step - loss: 0.0126\n",
      "Epoch 91/100\n",
      "60/60 [==============================] - 1s 23ms/step - loss: 0.0124\n",
      "Epoch 92/100\n",
      "60/60 [==============================] - 1s 23ms/step - loss: 0.0133\n",
      "Epoch 93/100\n",
      "60/60 [==============================] - 1s 23ms/step - loss: 0.0136\n",
      "Epoch 94/100\n",
      "60/60 [==============================] - 1s 23ms/step - loss: 0.0124\n",
      "Epoch 95/100\n",
      "60/60 [==============================] - 1s 23ms/step - loss: 0.0124\n",
      "Epoch 96/100\n",
      "60/60 [==============================] - 1s 23ms/step - loss: 0.0130\n",
      "Epoch 97/100\n",
      "60/60 [==============================] - 1s 23ms/step - loss: 0.0117\n",
      "Epoch 98/100\n",
      "60/60 [==============================] - 1s 23ms/step - loss: 0.0117\n",
      "Epoch 99/100\n",
      "60/60 [==============================] - 1s 23ms/step - loss: 0.0119\n",
      "Epoch 100/100\n",
      "60/60 [==============================] - 1s 23ms/step - loss: 0.0132\n"
     ]
    }
   ],
   "source": [
    "history = model.fit(X_train_reshaped, y_train, epochs=100, batch_size=32)"
   ]
  },
  {
   "cell_type": "code",
   "execution_count": 29,
   "id": "f6d102c2",
   "metadata": {
    "scrolled": true
   },
   "outputs": [
    {
     "data": {
      "text/plain": [
       "[<matplotlib.lines.Line2D at 0x27944336b00>]"
      ]
     },
     "execution_count": 29,
     "metadata": {},
     "output_type": "execute_result"
    },
    {
     "data": {
      "image/png": "[encoded data removed]",
      "text/plain": [
       "<Figure size 640x480 with 1 Axes>"
      ]
     },
     "metadata": {},
     "output_type": "display_data"
    }
   ],
   "source": [
    "plt.plot(history.history['loss'])"
   ]
  },
  {
   "cell_type": "markdown",
   "id": "6fca174d",
   "metadata": {},
   "source": [
    "## Predictions"
   ]
  },
  {
   "cell_type": "markdown",
   "id": "5324812e",
   "metadata": {},
   "source": [
    "### prep test dataset"
   ]
  },
  {
   "cell_type": "code",
   "execution_count": 33,
   "id": "a835af0c",
   "metadata": {},
   "outputs": [],
   "source": [
    "train_dataset_last60 = train_dataset.iloc[-60:]\n",
    "test_dataset_full = test_dataset.copy()\n",
    "test_dataset_full = pd.concat((train_dataset_last60, test_dataset_full), axis=0)"
   ]
  },
  {
   "cell_type": "code",
   "execution_count": 35,
   "id": "2c9e3b61",
   "metadata": {},
   "outputs": [
    {
     "data": {
      "text/plain": [
       "(552, 12)"
      ]
     },
     "execution_count": 35,
     "metadata": {},
     "output_type": "execute_result"
    }
   ],
   "source": [
    "test_dataset_full.shape"
   ]
  },
  {
   "cell_type": "code",
   "execution_count": 38,
   "id": "063fbf6f",
   "metadata": {},
   "outputs": [],
   "source": [
    "test_dataset_full_y = test_dataset_full[['Close']]"
   ]
  },
  {
   "cell_type": "code",
   "execution_count": 39,
   "id": "c07b841d",
   "metadata": {},
   "outputs": [],
   "source": [
    "test_len = test_dataset_full.shape[0]"
   ]
  },
  {
   "cell_type": "code",
   "execution_count": 40,
   "id": "54c7cb1b",
   "metadata": {},
   "outputs": [],
   "source": [
    "X_test = []\n",
    "y_test = []\n",
    "\n",
    "for i in range(hops, test_len):\n",
    "    X_test.append(test_dataset_full[i-60:i])\n",
    "    y_test.append(test_dataset_full_y.iloc[i][0])\n",
    "    \n",
    "X_test, y_test = np.array(X_test), np.array(y_test)"
   ]
  },
  {
   "cell_type": "code",
   "execution_count": 44,
   "id": "6b25dd5a",
   "metadata": {},
   "outputs": [
    {
     "data": {
      "text/plain": [
       "(492, 60, 12)"
      ]
     },
     "execution_count": 44,
     "metadata": {},
     "output_type": "execute_result"
    }
   ],
   "source": [
    "X_test.shape"
   ]
  },
  {
   "cell_type": "markdown",
   "id": "56d14364",
   "metadata": {},
   "source": [
    "### Predict"
   ]
  },
  {
   "cell_type": "code",
   "execution_count": 45,
   "id": "1cac2229",
   "metadata": {},
   "outputs": [
    {
     "name": "stdout",
     "output_type": "stream",
     "text": [
      "16/16 [==============================] - 1s 8ms/step\n"
     ]
    }
   ],
   "source": [
    "predictions = model.predict(X_test)"
   ]
  },
  {
   "cell_type": "code",
   "execution_count": 54,
   "id": "7e91c1b4",
   "metadata": {},
   "outputs": [],
   "source": [
    "actual_close = df[['Close']]\n",
    "actual_close = pd.DataFrame(actual_close.iloc[train_len:, 0])"
   ]
  },
  {
   "cell_type": "code",
   "execution_count": 56,
   "id": "493e8aae",
   "metadata": {},
   "outputs": [],
   "source": [
    "predictions = pd.DataFrame(predictions)\n",
    "predictions.reset_index(drop=True, inplace=True)\n",
    "predictions.index = test_dataset.index\n",
    "predictions['Actual'] = actual_close['Close']\n",
    "predictions.rename(columns={0:'Pred'}, inplace=True)"
   ]
  },
  {
   "cell_type": "code",
   "execution_count": 57,
   "id": "790774bd",
   "metadata": {},
   "outputs": [
    {
     "data": {
      "text/html": [
       "<div>\n",
       "<style scoped>\n",
       "    .dataframe tbody tr th:only-of-type {\n",
       "        vertical-align: middle;\n",
       "    }\n",
       "\n",
       "    .dataframe tbody tr th {\n",
       "        vertical-align: top;\n",
       "    }\n",
       "\n",
       "    .dataframe thead th {\n",
       "        text-align: right;\n",
       "    }\n",
       "</style>\n",
       "<table border=\"1\" class=\"dataframe\">\n",
       "  <thead>\n",
       "    <tr style=\"text-align: right;\">\n",
       "      <th></th>\n",
       "      <th>Pred</th>\n",
       "      <th>Actual</th>\n",
       "    </tr>\n",
       "    <tr>\n",
       "      <th>Date</th>\n",
       "      <th></th>\n",
       "      <th></th>\n",
       "    </tr>\n",
       "  </thead>\n",
       "  <tbody>\n",
       "    <tr>\n",
       "      <th>2020-09-10</th>\n",
       "      <td>-0.672382</td>\n",
       "      <td>-0.909183</td>\n",
       "    </tr>\n",
       "    <tr>\n",
       "      <th>2020-09-11</th>\n",
       "      <td>-0.678539</td>\n",
       "      <td>-0.766089</td>\n",
       "    </tr>\n",
       "    <tr>\n",
       "      <th>2020-09-14</th>\n",
       "      <td>-0.683494</td>\n",
       "      <td>-0.662021</td>\n",
       "    </tr>\n",
       "    <tr>\n",
       "      <th>2020-09-15</th>\n",
       "      <td>-0.657779</td>\n",
       "      <td>-0.740072</td>\n",
       "    </tr>\n",
       "    <tr>\n",
       "      <th>2020-09-16</th>\n",
       "      <td>-0.626205</td>\n",
       "      <td>-0.792106</td>\n",
       "    </tr>\n",
       "    <tr>\n",
       "      <th>...</th>\n",
       "      <td>...</td>\n",
       "      <td>...</td>\n",
       "    </tr>\n",
       "    <tr>\n",
       "      <th>2022-09-12</th>\n",
       "      <td>1.222768</td>\n",
       "      <td>1.484382</td>\n",
       "    </tr>\n",
       "    <tr>\n",
       "      <th>2022-09-13</th>\n",
       "      <td>1.229830</td>\n",
       "      <td>1.458365</td>\n",
       "    </tr>\n",
       "    <tr>\n",
       "      <th>2022-09-14</th>\n",
       "      <td>1.222509</td>\n",
       "      <td>1.406331</td>\n",
       "    </tr>\n",
       "    <tr>\n",
       "      <th>2022-09-15</th>\n",
       "      <td>1.206000</td>\n",
       "      <td>1.432348</td>\n",
       "    </tr>\n",
       "    <tr>\n",
       "      <th>2022-09-16</th>\n",
       "      <td>1.214113</td>\n",
       "      <td>1.315272</td>\n",
       "    </tr>\n",
       "  </tbody>\n",
       "</table>\n",
       "<p>492 rows × 2 columns</p>\n",
       "</div>"
      ],
      "text/plain": [
       "                Pred    Actual\n",
       "Date                          \n",
       "2020-09-10 -0.672382 -0.909183\n",
       "2020-09-11 -0.678539 -0.766089\n",
       "2020-09-14 -0.683494 -0.662021\n",
       "2020-09-15 -0.657779 -0.740072\n",
       "2020-09-16 -0.626205 -0.792106\n",
       "...              ...       ...\n",
       "2022-09-12  1.222768  1.484382\n",
       "2022-09-13  1.229830  1.458365\n",
       "2022-09-14  1.222509  1.406331\n",
       "2022-09-15  1.206000  1.432348\n",
       "2022-09-16  1.214113  1.315272\n",
       "\n",
       "[492 rows x 2 columns]"
      ]
     },
     "execution_count": 57,
     "metadata": {},
     "output_type": "execute_result"
    }
   ],
   "source": [
    "predictions"
   ]
  },
  {
   "cell_type": "code",
   "execution_count": 58,
   "id": "2affc71b",
   "metadata": {},
   "outputs": [
    {
     "data": {
      "text/plain": [
       "<AxesSubplot: xlabel='Date'>"
      ]
     },
     "execution_count": 58,
     "metadata": {},
     "output_type": "execute_result"
    },
    {
     "data": {
      "image/png": "[encoded data removed]",
      "text/plain": [
       "<Figure size 2000x800 with 1 Axes>"
      ]
     },
     "metadata": {},
     "output_type": "display_data"
    }
   ],
   "source": [
    "predictions['Actual'].plot(figsize=(20,8), legend=True, color='blue')\n",
    "predictions['Pred'].plot(legend=True, color='red', figsize=(20,8))"
   ]
  },
  {
   "cell_type": "markdown",
   "id": "1f5ec2ed",
   "metadata": {},
   "source": [
    "### Evaluation"
   ]
  },
  {
   "cell_type": "code",
   "execution_count": 59,
   "id": "6a74ada7",
   "metadata": {},
   "outputs": [],
   "source": [
    "from joblib import load\n",
    "\n",
    "close_scaler = load('../feature_engineering/tlkm_close_scaler.bin')"
   ]
  },
  {
   "cell_type": "code",
   "execution_count": 60,
   "id": "22ca82db",
   "metadata": {},
   "outputs": [],
   "source": [
    "inversed_pred = close_scaler.inverse_transform(np.array(predictions['Pred']).reshape(-1,1))\n",
    "inversed_act = close_scaler.inverse_transform(np.array(predictions['Actual']).reshape(-1,1))"
   ]
  },
  {
   "cell_type": "code",
   "execution_count": 63,
   "id": "e3f52d4b",
   "metadata": {},
   "outputs": [
    {
     "data": {
      "text/html": [
       "<div>\n",
       "<style scoped>\n",
       "    .dataframe tbody tr th:only-of-type {\n",
       "        vertical-align: middle;\n",
       "    }\n",
       "\n",
       "    .dataframe tbody tr th {\n",
       "        vertical-align: top;\n",
       "    }\n",
       "\n",
       "    .dataframe thead th {\n",
       "        text-align: right;\n",
       "    }\n",
       "</style>\n",
       "<table border=\"1\" class=\"dataframe\">\n",
       "  <thead>\n",
       "    <tr style=\"text-align: right;\">\n",
       "      <th></th>\n",
       "      <th>Pred</th>\n",
       "      <th>Actual</th>\n",
       "    </tr>\n",
       "    <tr>\n",
       "      <th>Date</th>\n",
       "      <th></th>\n",
       "      <th></th>\n",
       "    </tr>\n",
       "  </thead>\n",
       "  <tbody>\n",
       "    <tr>\n",
       "      <th>2020-09-10</th>\n",
       "      <td>2882.035400</td>\n",
       "      <td>2700.0</td>\n",
       "    </tr>\n",
       "    <tr>\n",
       "      <th>2020-09-11</th>\n",
       "      <td>2877.302002</td>\n",
       "      <td>2810.0</td>\n",
       "    </tr>\n",
       "  </tbody>\n",
       "</table>\n",
       "</div>"
      ],
      "text/plain": [
       "                   Pred  Actual\n",
       "Date                           \n",
       "2020-09-10  2882.035400  2700.0\n",
       "2020-09-11  2877.302002  2810.0"
      ]
     },
     "execution_count": 63,
     "metadata": {},
     "output_type": "execute_result"
    }
   ],
   "source": [
    "inversed = pd.DataFrame(inversed_pred)\n",
    "inversed['Actual'] = inversed_act\n",
    "inversed.rename({0:'Pred'}, axis=1, inplace=True)\n",
    "inversed.index = test_dataset.index\n",
    "inversed.head(2)"
   ]
  },
  {
   "cell_type": "code",
   "execution_count": 70,
   "id": "67d11f42",
   "metadata": {},
   "outputs": [],
   "source": [
    "def plotErrorHist(inversed_df):\n",
    "    \"\"\"\n",
    "    Function to plot error histogram\n",
    "    \"\"\"\n",
    "    error = inversed_df['Pred'] - inversed_df['Actual']\n",
    "    # plt.hist(error, bins=25)\n",
    "    sns.displot(error)\n",
    "    plt.xlabel('Prediction Error [Close]')\n",
    "    _ = plt.ylabel('Count')"
   ]
  },
  {
   "cell_type": "code",
   "execution_count": 71,
   "id": "658ab601",
   "metadata": {},
   "outputs": [
    {
     "data": {
      "image/png": "[encoded data removed]",
      "text/plain": [
       "<Figure size 500x500 with 1 Axes>"
      ]
     },
     "metadata": {},
     "output_type": "display_data"
    }
   ],
   "source": [
    "plotErrorHist(inversed)"
   ]
  },
  {
   "cell_type": "markdown",
   "id": "116cf1b1",
   "metadata": {},
   "source": [
    "**RMSE**"
   ]
  },
  {
   "cell_type": "code",
   "execution_count": 66,
   "id": "a5e9ec53",
   "metadata": {},
   "outputs": [
    {
     "data": {
      "text/plain": [
       "157.22340405030945"
      ]
     },
     "execution_count": 66,
     "metadata": {},
     "output_type": "execute_result"
    }
   ],
   "source": [
    "from statsmodels.tools.eval_measures import rmse\n",
    "\n",
    "rmse(inversed['Pred'], inversed['Actual'])"
   ]
  },
  {
   "cell_type": "markdown",
   "id": "580f7193",
   "metadata": {},
   "source": [
    "**MAPE**"
   ]
  },
  {
   "cell_type": "code",
   "execution_count": 67,
   "id": "f90bec80",
   "metadata": {},
   "outputs": [
    {
     "data": {
      "text/plain": [
       "3.4438692469006904"
      ]
     },
     "execution_count": 67,
     "metadata": {},
     "output_type": "execute_result"
    }
   ],
   "source": [
    "# mape\n",
    "def mape(actual, pred): \n",
    "    actual, pred = np.array(actual), np.array(pred)\n",
    "    return np.mean(np.abs((actual - pred) / actual)) * 100\n",
    "\n",
    "mape(inversed['Actual'], inversed['Pred'])"
   ]
  },
  {
   "cell_type": "markdown",
   "id": "21620256",
   "metadata": {},
   "source": [
    "**R-squared**"
   ]
  },
  {
   "cell_type": "code",
   "execution_count": 68,
   "id": "f42e3473",
   "metadata": {},
   "outputs": [
    {
     "data": {
      "text/plain": [
       "0.9232394240628011"
      ]
     },
     "execution_count": 68,
     "metadata": {},
     "output_type": "execute_result"
    }
   ],
   "source": [
    "from sklearn.metrics import r2_score\n",
    "\n",
    "r2_score(inversed['Actual'], inversed['Pred'])"
   ]
  }
 ],
 "metadata": {
  "kernelspec": {
   "display_name": "Python 3 (ipykernel)",
   "language": "python",
   "name": "python3"
  },
  "language_info": {
   "codemirror_mode": {
    "name": "ipython",
    "version": 3
   },
   "file_extension": ".py",
   "mimetype": "text/x-python",
   "name": "python",
   "nbconvert_exporter": "python",
   "pygments_lexer": "ipython3",
   "version": "3.10.8"
  }
 },
 "nbformat": 4,
 "nbformat_minor": 5
}
